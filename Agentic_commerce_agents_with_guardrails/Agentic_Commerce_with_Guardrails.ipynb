{
  "nbformat": 4,
  "nbformat_minor": 0,
  "metadata": {
    "colab": {
      "provenance": []
    },
    "kernelspec": {
      "name": "python3",
      "display_name": "Python 3"
    },
    "language_info": {
      "name": "python"
    }
  },
  "cells": [
    {
      "cell_type": "markdown",
      "source": [
        "## 🧩 Overview — Agentic Commerce Multi-Agent System\n",
        "\n",
        "This notebook demonstrates an **agentic commerce pipeline** — a simulated multi-agent system that automates product discovery, pricing, content generation, supervision, and transaction validation with trust at its core.  \n",
        "\n",
        "It showcases how **AI agents collaborate** to plan, optimize, and execute a commerce flow end-to-end while using **guardrails** to ensure safety, transparency, and trust.  \n",
        "\n",
        "When complete, the system compiles a detailed JSON report capturing the essential data of this new *agentic commerce flow* that can then be passes on the payment transaction system.\n",
        "- 🧩 **Agent Names** – which AI module handled each decision stage  \n",
        "- 💭 **Intent** – the user’s shopping request in structured form  \n",
        "- 💰 **Budget** – the detected spending limit and the system’s cost estimates  \n",
        "- 🛡️ **Guardrail Status** – pass or fail, depending on ethical and budget adherence  \n",
        "\n",
        "\n",
        "The agents involved include:\n",
        "- **Intent Planner Agent** – understands user goals and budgets  \n",
        "- **Product Discovery Agent** – finds relevant products using Tavily search  \n",
        "- **Price Optimizer Agent** – estimates costs and ensures they fit within budget  \n",
        "- **Commerce Copywriter Agent** – creates persuasive, ethical ad copy  \n",
        "- **Supervisor Agent** – validates quality, compliance, and safety  \n",
        "- **Transaction Agent** – simulates payment handling  \n",
        "- **Checkout Simulator** – mimics a checkout and shows if the process succeeds  \n",
        "- **Trust Guardrails Agent** – checks ethical and budgetary consistency  \n",
        "\n",
        "👉 The saved example run shows a case where **the guardrail fails**, meaning the transaction is **blocked before payment** — demonstrating how the system prevents untrustworthy or unsafe operations.  \n",
        "Some modules (like web search and transactions) are **simulated** for demonstration purposes.\n",
        "\n",
        "---\n",
        "\n",
        "## 1. Environment Setup\n",
        "This cell installs dependencies, loads API keys (OpenAI, Tavily), and initializes the session for the multi-agent orchestration.\n"
      ],
      "metadata": {
        "id": "K-qKepytOY6E"
      }
    },
    {
      "cell_type": "code",
      "source": [
        "# 💳 Agentic Commerce Demo —\n",
        "# End-to-end multi-agent orchestration with trust, guardrails, and simulated transactions.\n",
        "\n",
        "# =====================================================\n",
        "# 1. SETUP\n",
        "# =====================================================\n",
        "!pip install aisuite[openai] -q\n",
        "!pip install tavily-python -q\n",
        "!pip install aisuite tavily-python python-dotenv -q\n",
        "\n",
        "\n",
        "import os, re, json, requests\n",
        "from datetime import datetime\n",
        "from tavily import TavilyClient\n",
        "import aisuite\n",
        "from dotenv import load_dotenv\n",
        "from IPython.display import display, HTML\n",
        "from google.colab import userdata\n",
        "import random\n",
        "\n",
        "\n",
        "# Session\n",
        "session = requests.Session()\n",
        "session.headers.update({\"User-Agent\": \"LF-Agent/1.0 (mailto:you@example.com)\"})\n",
        "\n",
        "# Keys\n",
        "os.environ[\"OPENAI_API_KEY\"] = userdata.get(\"OPENAI_API_KEY\")\n",
        "os.environ[\"TAVILY_API_KEY\"] = userdata.get(\"TAVILY_API_KEY\")\n",
        "load_dotenv()\n",
        "client = aisuite.Client()\n",
        "print(\"✅ Environment ready.\")"
      ],
      "metadata": {
        "colab": {
          "base_uri": "https://localhost:8080/"
        },
        "id": "KoBd-T6YPLKq",
        "outputId": "9d29f6ec-8d69-4fad-b229-3fd7f150f10f"
      },
      "execution_count": 53,
      "outputs": [
        {
          "output_type": "stream",
          "name": "stdout",
          "text": [
            "✅ Environment ready.\n"
          ]
        }
      ]
    },
    {
      "cell_type": "markdown",
      "source": [
        "## 2. Utilities & Guardrails\n",
        "\n",
        "This section defines helper functions for:\n",
        "- Displaying agent outputs and tool results in styled HTML panels\n",
        "- Logging tool calls and summaries\n",
        "\n",
        "It also introduces the **Trust Guardrails Agent**, which enforces safety and trust principles in commerce:\n",
        "- Checks that transactions stay within the user’s budget  \n",
        "- Ensures the supervisor has approved the pipeline  \n",
        "- Validates that copywriter content includes a clear, ethical call-to-action  \n",
        "- Flags unsafe, biased, or non-compliant output  \n",
        "\n",
        "When any guardrail fails, the transaction flow is blocked — this prevents unsafe or financially inconsistent outcomes.\n"
      ],
      "metadata": {
        "id": "-N6LBBOqOkQ7"
      }
    },
    {
      "cell_type": "code",
      "source": [
        "\n",
        "\n",
        "\n",
        "# =====================================================\n",
        "# 2. UTILITIES & GUARDRAILS\n",
        "# =====================================================\n",
        "def log_agent_title_html(title, icon=\"🤖\"):\n",
        "    display(HTML(f\"\"\"\n",
        "    <div style=\"padding:1em;margin:1em 0;background-color:#f0f4f8;border-left:6px solid #1976D2;\">\n",
        "      <h2 style=\"margin:0;color:#0D47A1;\">{icon} {title}</h2>\n",
        "    </div>\"\"\"))\n",
        "\n",
        "def log_final_summary_html(content):\n",
        "    display(HTML(f\"\"\"\n",
        "      <div style=\"border-left:4px solid #2E7D32;padding:1em;margin:1em 0;\n",
        "                  background-color:#e8f5e9;color:#1B5E20;\">\n",
        "        <strong>✅ Output:</strong>\n",
        "        <pre style=\"white-space:pre-wrap;\">{content}</pre>\n",
        "      </div>\"\"\"))\n",
        "\n",
        "def log_tool_call_html(tool_name, args):\n",
        "    display(HTML(f\"\"\"\n",
        "    <div style=\"background:#e3f2fd;padding:10px;border-left:5px solid #1976D2;margin:8px 0;\">\n",
        "    📞 <b>Tool Call:</b> {tool_name} → {args}\n",
        "    </div>\"\"\"))\n",
        "\n",
        "def log_tool_result_html(result):\n",
        "    display(HTML(f\"\"\"\n",
        "    <div style=\"background:#ffffff;\n",
        "                padding:10px;\n",
        "                border-left:5px solid #4CAF50;\n",
        "                margin:8px 0;\">\n",
        "      <b style=\"color:#2E7D32;\">✅ Tool Result:</b><br>\n",
        "      <pre style=\"color:#212121;white-space:pre-wrap;\n",
        "                  font-size:14px;\">{json.dumps(result, indent=2)}</pre>\n",
        "    </div>\"\"\"))\n",
        "\n",
        "\n",
        "\n",
        "def trust_guardrails(copy_output, user_budget, price_optimizer_output=None, supervisor_output=None):\n",
        "    \"\"\"\n",
        "    🛡️ Trust Guardrails Agent\n",
        "    Ensures the pipeline maintains user trust and financial consistency.\n",
        "    Checks:\n",
        "      1. Budget adherence (from Price Optimizer)\n",
        "      2. Supervisor approval\n",
        "      3. Copywriter truthfulness / clear CTA\n",
        "    \"\"\"\n",
        "\n",
        "    log_agent_title_html(\"🛡️ Trust Guardrails Agent\", \"🧭\")\n",
        "\n",
        "    issues = []\n",
        "    passed = True\n",
        "\n",
        "    # 1️⃣ Budget Guardrail — must match budget limit\n",
        "    total_price = 0\n",
        "    if price_optimizer_output:\n",
        "        total_price = price_optimizer_output.get(\"estimated_total\", 0)\n",
        "        if total_price > user_budget:\n",
        "            passed = False\n",
        "            issues.append(\n",
        "                f\"Estimated total ${total_price} exceeds user budget ${user_budget}.\"\n",
        "            )\n",
        "\n",
        "    # 2️⃣ Supervisor approval check\n",
        "    if supervisor_output and supervisor_output.get(\"status\", \"\").lower() not in [\"approved\", \"ok\", \"pass\"]:\n",
        "        passed = False\n",
        "        issues.append(\"Supervisor did not approve the pipeline execution.\")\n",
        "\n",
        "    # 3️⃣ Copywriter call-to-action (CTA) validation\n",
        "    quote_text = \"\"\n",
        "    if isinstance(copy_output, dict):\n",
        "        quote_text = copy_output.get(\"quote\", \"\")\n",
        "    elif isinstance(copy_output, str):\n",
        "        quote_text = copy_output\n",
        "\n",
        "    if quote_text and \"buy\" not in quote_text.lower():\n",
        "        passed = False\n",
        "        issues.append(\"Copywriter text does not include a clear call-to-action to purchase.\")\n",
        "\n",
        "    # 4️⃣ Default pass message\n",
        "    if not issues:\n",
        "        issues.append(\"All checks passed. No issues detected.\")\n",
        "\n",
        "    # 5️⃣ Styling\n",
        "    color = \"#2E7D32\" if passed else \"#C62828\"  # green or red\n",
        "    bg = \"#E8F5E9\" if passed else \"#FFEBEE\"     # light green or red\n",
        "    emoji = \"✅\" if passed else \"⚠️\"\n",
        "\n",
        "    # 6️⃣ Bright, readable display panel\n",
        "    display(HTML(f\"\"\"\n",
        "    <div style=\"border-left:6px solid {color};\n",
        "                padding:16px;\n",
        "                margin:12px 0;\n",
        "                background-color:{bg};\n",
        "                color:#111;\n",
        "                font-family:'Segoe UI',sans-serif;\n",
        "                line-height:1.5;\n",
        "                box-shadow:0 2px 6px rgba(0,0,0,0.08);\n",
        "                border-radius:8px;\">\n",
        "      <h3 style=\"margin-top:0;\n",
        "                 color:{color};\n",
        "                 font-size:18px;\">\n",
        "        {emoji} Trust Guardrails Summary\n",
        "      </h3>\n",
        "      <ul style=\"margin-top:8px;\n",
        "                 color:#000;\n",
        "                 font-size:14px;\">\n",
        "        {''.join([f'<li>{i}</li>' for i in issues])}\n",
        "      </ul>\n",
        "      <p style=\"margin-top:10px;\n",
        "                font-weight:600;\n",
        "                font-size:15px;\n",
        "                color:{color};\">\n",
        "        Status: {\"PASS\" if passed else \"FAIL\"}\n",
        "      </p>\n",
        "      <p style=\"margin-top:4px;font-size:13px;color:#555;\">\n",
        "        <b>Verified Total:</b> ${total_price} | <b>User Budget:</b> ${user_budget}\n",
        "      </p>\n",
        "    </div>\n",
        "    \"\"\"))\n",
        "\n",
        "    return passed, issues\n",
        "\n",
        "\n",
        "\n"
      ],
      "metadata": {
        "id": "pMiaX6zDNP2o"
      },
      "execution_count": 54,
      "outputs": []
    },
    {
      "cell_type": "markdown",
      "source": [
        "## 3. Tavily Search Tool\n",
        "\n",
        "This defines a simple search wrapper around the **Tavily API**, which retrieves structured web results.  \n",
        "It’s used by the Product Discovery Agent to find shoppable products from sources like Amazon, IKEA, Wayfair, and Target.  \n",
        "All API responses are cleaned and returned as lists of title–content–URL objects, optionally with images.\n"
      ],
      "metadata": {
        "id": "UE3oIN2lOv_b"
      }
    },
    {
      "cell_type": "code",
      "source": [
        "\n",
        "# =====================================================\n",
        "# 3. TAVILY SEARCH TOOL\n",
        "# =====================================================\n",
        "def tavily_search_tool(query: str, max_results: int = 5, include_images: bool = False):\n",
        "    api_key = os.getenv(\"TAVILY_API_KEY\")\n",
        "    client = TavilyClient(api_key=api_key)\n",
        "    try:\n",
        "        resp = client.search(query=query, max_results=max_results, include_images=include_images)\n",
        "        results = []\n",
        "        for r in resp.get(\"results\", []):\n",
        "            results.append({\n",
        "                \"title\": r.get(\"title\", \"\"),\n",
        "                \"content\": r.get(\"content\", \"\"),\n",
        "                \"url\": r.get(\"url\", \"\")\n",
        "            })\n",
        "        if include_images:\n",
        "            for img_url in resp.get(\"images\", []):\n",
        "                results.append({\"image_url\": img_url})\n",
        "        return results\n",
        "    except Exception as e:\n",
        "        return [{\"error\": str(e)}]\n"
      ],
      "metadata": {
        "id": "w5rC30RbNv3X"
      },
      "execution_count": 55,
      "outputs": []
    },
    {
      "cell_type": "markdown",
      "source": [
        "## 4. Agent Definitions\n",
        "\n",
        "This section defines all **core agents** in the pipeline:\n",
        "\n",
        "- **Intent Planner Agent** – Extracts structured shopping intent and budget from a user’s request.  \n",
        "- **Product Discovery Agent** – Uses Tavily search to find specific items matching style, category, and budget.  \n",
        "- **Price Optimizer Agent** – Simulates price estimation and checks whether total cost fits within budget.  \n",
        "- **Commerce Copywriter Agent** – Generates short, persuasive purchase copy emphasizing trust and verified sellers.  \n",
        "- **Supervisor Agent** – Reviews outputs for safety, completeness, and compliance.  \n",
        "- **Transaction Agent** – Simulates a payment approval step (only if all guardrails pass).  \n",
        "- **Checkout Simulator** – Displays a simulated receipt; if a guardrail fails, the transaction is marked as **blocked**.  \n",
        "\n",
        "Each agent is displayed through rich HTML summaries to visualize its decision and reasoning process.\n"
      ],
      "metadata": {
        "id": "aektG_mWOxUp"
      }
    },
    {
      "cell_type": "code",
      "source": [
        "\n",
        "\n",
        "# =====================================================\n",
        "# 4. AGENTS\n",
        "# =====================================================\n",
        "\n",
        "# --- Intent Planner ---\n",
        "def extract_budget_from_text(user_text):\n",
        "    match = re.search(r\"\\$?\\s*([0-9]+(?:\\.[0-9]+)?)(?:\\s*k|K)?\", user_text)\n",
        "    if match:\n",
        "        val = match.group(1)\n",
        "        return int(float(val) * 1000) if 'k' in user_text.lower() else int(float(val))\n",
        "    return 500\n",
        "\n",
        "def intent_planner_agent(user_request):\n",
        "    log_agent_title_html(\"Intent Planner Agent\", \"🧭\")\n",
        "    budget = extract_budget_from_text(user_request)\n",
        "    prompt = f\"\"\"\n",
        "You are an e-commerce intent planner.\n",
        "Extract structured intent in JSON format.\n",
        "\n",
        "User request: \"{user_request}\"\n",
        "\n",
        "Return JSON:\n",
        "{{\n",
        "  \"goal\": \"...\",\n",
        "  \"category\": \"...\",\n",
        "  \"budget\": {budget},\n",
        "  \"style\": [\"...\"]\n",
        "}}\n",
        "\"\"\"\n",
        "    response = client.chat.completions.create(\n",
        "        model=\"openai:o4-mini\",\n",
        "        messages=[{\"role\": \"user\", \"content\": prompt}]\n",
        "    )\n",
        "    msg = response.choices[0].message.content.strip()\n",
        "    log_final_summary_html(msg)\n",
        "    try:\n",
        "        match = re.search(r\"\\{.*\\}\", msg, re.DOTALL)\n",
        "        parsed = json.loads(match.group(0))\n",
        "    except:\n",
        "        parsed = {\"goal\": \"shopping\", \"category\": \"home\", \"budget\": budget, \"style\": [\"modern\"]}\n",
        "    return parsed\n",
        "\n",
        "\n",
        "\n",
        "\n",
        "\n",
        "def price_optimizer_agent(products, intent_json):\n",
        "    log_agent_title_html(\"💰 Price Optimizer Agent\", \"📊\")\n",
        "\n",
        "    # Extract budget\n",
        "    budget = intent_json.get(\"budget\", 0)\n",
        "\n",
        "    # Example: infer or simulate prices\n",
        "    prices = []\n",
        "    total_price = 0\n",
        "    for p in products:\n",
        "        price = random.randint(90, 150)  # Replace with real parsed price later\n",
        "        prices.append(price)\n",
        "        total_price += price\n",
        "\n",
        "    within_budget = total_price <= budget\n",
        "\n",
        "    summary = {\n",
        "        \"agent_name\": \"Price Optimizer Agent\",\n",
        "        \"estimated_total\": total_price,\n",
        "        \"individual_prices\": prices,\n",
        "        \"within_budget\": within_budget,\n",
        "        \"item_count\": len(products),\n",
        "        \"budget\": budget,\n",
        "    }\n",
        "\n",
        "    display(HTML(f\"\"\"\n",
        "    <div style=\"background-color:#E3F2FD;padding:12px;\n",
        "                border-left:5px solid #2196F3;\n",
        "                margin:8px 0;\n",
        "                color:#000;font-family:'Segoe UI',sans-serif;\">\n",
        "      <h3 style=\"margin-top:0;\">💰 Price Optimizer Summary</h3>\n",
        "      <p><b>Estimated total:</b> ${total_price}</p>\n",
        "      <p><b>Budget:</b> ${budget} — {\"✅ Within\" if within_budget else \"⚠️ Over\"} budget</p>\n",
        "      <p style=\"font-size:14px;color:#444;\">Prices derived consistently for downstream agents.</p>\n",
        "    </div>\n",
        "    \"\"\"))\n",
        "\n",
        "    return summary\n",
        "\n",
        "\n",
        "\n",
        "def product_discovery_agent(intent_json):\n",
        "    \"\"\"\n",
        "    Product Discovery Agent\n",
        "    - Infers style, category, and budget from the user's intent\n",
        "    - Queries Tavily for purchasable furniture products\n",
        "    - Filters out non-product or category-level pages\n",
        "    - Displays a readable HTML summary with count and context\n",
        "    \"\"\"\n",
        "    log_agent_title_html(\"🛒 Product Discovery Agent\", \"🪑\")\n",
        "\n",
        "    # 1️⃣ Extract budget and intent safely\n",
        "    budget = intent_json.get(\"budget\", 0)\n",
        "    user_intent_text = intent_json.get(\"intent\", \"\").lower()\n",
        "\n",
        "    # 2️⃣ Infer product category from intent\n",
        "    if \"office\" in user_intent_text:\n",
        "        category = \"home office furniture\"\n",
        "    elif \"dining\" in user_intent_text:\n",
        "        category = \"dining room furniture\"\n",
        "    elif \"bedroom\" in user_intent_text:\n",
        "        category = \"bedroom furniture\"\n",
        "    elif \"living\" in user_intent_text:\n",
        "        category = \"living room furniture\"\n",
        "    else:\n",
        "        category = \"furniture\"\n",
        "\n",
        "    # 3️⃣ Infer design style\n",
        "    if \"scandinavian\" in user_intent_text:\n",
        "        style = \"scandinavian\"\n",
        "    elif \"modern\" in user_intent_text:\n",
        "        style = \"modern\"\n",
        "    elif \"minimal\" in user_intent_text or \"minimalist\" in user_intent_text:\n",
        "        style = \"minimalist\"\n",
        "    elif \"boho\" in user_intent_text:\n",
        "        style = \"boho\"\n",
        "    else:\n",
        "        style = \"contemporary\"\n",
        "\n",
        "    # 4️⃣ Build focused Tavily query — target product-level results\n",
        "    query = (\n",
        "        f\"buy {style} {category} product details price \"\n",
        "        \"site:amazon.com OR site:ikea.com OR site:wayfair.com OR site:target.com \"\n",
        "        \"product OR item OR sku OR add to cart\"\n",
        "    )\n",
        "\n",
        "    # 5️⃣ Perform Tavily search\n",
        "    log_tool_call_html(\"tavily_search_tool\", query)\n",
        "    results = tavily_search_tool(query, max_results=10, include_images=True)\n",
        "\n",
        "    # 6️⃣ Filter for true product pages (not category/search listings)\n",
        "    shopping_domains = [\"amazon.com\", \"ikea.com\", \"wayfair.com\", \"target.com\"]\n",
        "    filtered = []\n",
        "    for r in results:\n",
        "        url = r.get(\"url\", \"\")\n",
        "        title = r.get(\"title\", \"\").lower()\n",
        "\n",
        "        # Exclude listings, collections, guides, or short URLs\n",
        "        if (\n",
        "            any(domain in url for domain in shopping_domains)\n",
        "            and not any(\n",
        "                bad in url\n",
        "                for bad in [\n",
        "                    \"search\",\n",
        "                    \"collections\",\n",
        "                    \"category\",\n",
        "                    \"departments\",\n",
        "                    \"list\",\n",
        "                    \"browse\",\n",
        "                    \"rooms\",\n",
        "                    \"inspiration\",\n",
        "                    \"ideas\",\n",
        "                    \"tips\",\n",
        "                    \"guide\",\n",
        "                    \"video\",\n",
        "                ]\n",
        "            )\n",
        "            and len(url.split(\"/\")) > 4  # deeper URLs indicate product pages\n",
        "        ):\n",
        "            filtered.append(r)\n",
        "\n",
        "    # 7️⃣ HTML summary display\n",
        "    display(HTML(f\"\"\"\n",
        "    <div style=\"background-color:#FFF3E0;\n",
        "                padding:12px;\n",
        "                border-left:5px solid #000;\n",
        "                margin:8px 0;\n",
        "                color:#000;\n",
        "                font-family:'Segoe UI',sans-serif;\">\n",
        "        <h3 style=\"margin-top:0;\">🛍️ Product Discovery Summary</h3>\n",
        "        <p>Found <b>{len(filtered)}</b> individual <i>{style} {category}</i> items within your budget of ${budget}.</p>\n",
        "        <p style=\"font-size:14px;color:#444;\">(Showing product-level links only — category pages filtered out.)</p>\n",
        "    </div>\n",
        "    \"\"\"))\n",
        "\n",
        "    # 8️⃣ Return clean structured list\n",
        "    return filtered\n",
        "\n",
        "\n",
        "\n",
        "\n",
        "def commerce_copywriter_agent(intent_json, products, budget_info):\n",
        "    log_agent_title_html(\"Copywriter Agent\", \"✍️\")\n",
        "\n",
        "    prompt = f\"\"\"\n",
        "You are an AI commerce copywriter working within a trusted agentic checkout system.\n",
        "Your job is to create an engaging, inclusive, and concise campaign paragraph that:\n",
        "\n",
        "1. Summarizes the offer clearly.\n",
        "2. Encourages the user to complete their purchase right now through the agent (not external links).\n",
        "3. Builds trust by emphasizing verified sellers, secure payments, and instant checkout.\n",
        "4. Keeps under 100 words.\n",
        "5. Matches the tone: warm, professional, empowering.\n",
        "\n",
        "User intent:\n",
        "Goal: {intent_json['goal']}\n",
        "Category: {intent_json['category']}\n",
        "Budget: ${intent_json['budget']}\n",
        "Products: {[p['title'] for p in products[:3]]}\n",
        "\n",
        "Return only the text paragraph — no JSON.\n",
        "\"\"\"\n",
        "\n",
        "    response = client.chat.completions.create(\n",
        "        model=\"openai:o4-mini\",\n",
        "        messages=[{\"role\": \"user\", \"content\": prompt}]\n",
        "    )\n",
        "\n",
        "    text = response.choices[0].message.content.strip()\n",
        "    log_final_summary_html(text)\n",
        "    return text\n",
        "\n",
        "\n",
        "\n",
        "# --- Supervisor Agent ---\n",
        "def supervisor_agent(intent_json, products, budget_info, copy_text):\n",
        "    log_agent_title_html(\"Supervisor Agent\", \"🧑‍💼\")\n",
        "    system_msg = \"You are a QA reviewer ensuring outputs are safe, relevant, and complete.\"\n",
        "    user_msg = f\"\"\"\n",
        "Review:\n",
        "Intent: {json.dumps(intent_json, indent=2)}\n",
        "Budget: {json.dumps(budget_info, indent=2)}\n",
        "Copy: {copy_text}\n",
        "\n",
        "Return JSON:\n",
        "{{\n",
        "  \"status\": \"pass/fail\",\n",
        "  \"issues\": [\"list of issues\"],\n",
        "  \"executive_summary\": \"2–3 sentence overview\"\n",
        "}}\n",
        "\"\"\"\n",
        "    res = client.chat.completions.create(\n",
        "        model=\"openai:o4-mini\",\n",
        "        messages=[{\"role\": \"system\", \"content\": system_msg},\n",
        "                  {\"role\": \"user\", \"content\": user_msg}]\n",
        "    )\n",
        "    msg = res.choices[0].message.content.strip()\n",
        "    log_final_summary_html(msg)\n",
        "    try:\n",
        "        match = re.search(r\"\\{.*\\}\", msg, re.DOTALL)\n",
        "        parsed = json.loads(match.group(0))\n",
        "    except:\n",
        "        parsed = {\"status\": \"unknown\", \"issues\": [], \"executive_summary\": \"Could not parse review.\"}\n",
        "    parsed[\"agent_name\"] = \"Supervisor Agent\"\n",
        "    return parsed\n",
        "\n",
        "\n",
        "def transaction_agent(intent, budget_data, products, copy):\n",
        "    log_agent_title_html(\"💳 Transaction Agent\", \"💼\")\n",
        "\n",
        "    total = budget_data[\"estimated_total\"]  # ✅ use single source of truth\n",
        "    within_budget = budget_data[\"within_budget\"]\n",
        "\n",
        "    transaction_summary = {\n",
        "        \"agent_name\": \"Transaction Agent\",\n",
        "        \"status\": \"pending\" if not within_budget else \"approved\",\n",
        "        \"total_amount\": total,\n",
        "        \"item_count\": budget_data[\"item_count\"],\n",
        "        \"within_budget\": within_budget,\n",
        "    }\n",
        "\n",
        "    display(HTML(f\"\"\"\n",
        "    <div style=\"background-color:#FFF8E1;padding:12px;\n",
        "                border-left:5px solid #000;\n",
        "                margin:8px 0;\n",
        "                color:#000;font-family:'Segoe UI',sans-serif;\">\n",
        "      <h3 style=\"margin-top:0;\">💳 Transaction Summary</h3>\n",
        "      <p><b>Total Amount:</b> ${total}</p>\n",
        "      <p><b>Items:</b> {budget_data[\"item_count\"]}</p>\n",
        "      <p><b>Budget Status:</b> {\"✅ Within\" if within_budget else \"⚠️ Over\"} budget</p>\n",
        "    </div>\n",
        "    \"\"\"))\n",
        "\n",
        "    return transaction_summary\n",
        "\n",
        "\n",
        "\n",
        "\n",
        "\n",
        "def checkout_simulator(transaction, supervisor):\n",
        "    log_agent_title_html(\"🧾 Checkout Simulator\", \"🛍️\")\n",
        "\n",
        "    total = transaction.get(\"total_amount\", 0)  # ✅ pull from transaction agent\n",
        "    within_budget = transaction.get(\"within_budget\", True)\n",
        "\n",
        "    color = \"#2E7D32\" if within_budget else \"#C62828\"\n",
        "    bg = \"#E8F5E9\" if within_budget else \"#FFEBEE\"\n",
        "\n",
        "    display(HTML(f\"\"\"\n",
        "    <div style=\"border-left:5px solid {color};padding:16px;margin:10px 0;\n",
        "                background-color:{bg};color:#000;font-family:'Segoe UI',sans-serif;\">\n",
        "      <h3 style=\"margin-top:0;\">🧾 Agentic Checkout Receipt</h3>\n",
        "      <p><b>Total:</b> ${total}</p>\n",
        "      <p><b>Supervisor:</b> {supervisor.get(\"status\", \"N/A\")}</p>\n",
        "      <p><b>Status:</b> {\"✅ Completed\" if within_budget else \"❌ Blocked (Over Budget)\"}</p>\n",
        "    </div>\n",
        "    \"\"\"))\n",
        "\n",
        "    return {\n",
        "        \"agent_name\": \"Checkout Simulator\",\n",
        "        \"status\": \"completed\" if within_budget else \"blocked\",\n",
        "        \"total\": total,\n",
        "    }\n",
        "\n"
      ],
      "metadata": {
        "id": "0f13ssPQNza3"
      },
      "execution_count": 56,
      "outputs": []
    },
    {
      "cell_type": "markdown",
      "source": [
        "## 5. Packaging & Reporting\n",
        "\n",
        "This cell defines the **Packaging Agent**, which creates a structured HTML report summarizing:\n",
        "- User goal and budget  \n",
        "- Discovered products  \n",
        "- Generated marketing copy  \n",
        "- Supervisor’s feedback and overall pipeline result  \n",
        "\n",
        "It visually ties together all agent outputs to form an **end-to-end commerce experience report**.\n"
      ],
      "metadata": {
        "id": "hE0AYGgRO9ic"
      }
    },
    {
      "cell_type": "code",
      "source": [
        "\n",
        "# =====================================================\n",
        "# 5. PACKAGING + ORCHESTRATION\n",
        "# =====================================================\n",
        "def packaging_agent(intent_json, products, budget_info, copy_text, supervisor_report):\n",
        "    log_agent_title_html(\"Packaging Agent\", \"📦\")\n",
        "    cards = \"\"\n",
        "    for p in products:\n",
        "        img_html = f'<img src=\"{p[\"image\"]}\" style=\"width:160px;border-radius:8px;\">' if p.get(\"image\") else \"\"\n",
        "        cards += f\"\"\"\n",
        "        <div style=\"display:flex;align-items:center;gap:12px;border:1px solid #ddd;\n",
        "                    padding:8px;margin-bottom:10px;border-radius:8px;\">\n",
        "            {img_html}\n",
        "            <div><b>{p['title']}</b><br><small>{p['content']}</small><br>\n",
        "            <a href=\"{p['url']}\" target=\"_blank\">View</a></div>\n",
        "        </div>\"\"\"\n",
        "    html = f\"\"\"\n",
        "    <div style=\"font-family:Arial;max-width:800px;margin:auto;\">\n",
        "      <h2>🛍️ Agentic Commerce Report</h2>\n",
        "      <p><b>Goal:</b> {intent_json['goal']} — <b>Budget:</b> ${intent_json['budget']}</p>\n",
        "      {cards}\n",
        "      <h3>Copywriter Summary</h3><p>{copy_text}</p>\n",
        "      <h3>Supervisor QA</h3>\n",
        "      <p><b>Status:</b> {supervisor_report['status']}</p>\n",
        "      <blockquote>{supervisor_report['executive_summary']}</blockquote>\n",
        "      <hr><small>Generated {datetime.now().strftime('%Y-%m-%d %H:%M:%S')}</small>\n",
        "    </div>\"\"\"\n",
        "    display(HTML(html))\n",
        "    return html\n",
        "\n"
      ],
      "metadata": {
        "id": "7eigycRhN18j"
      },
      "execution_count": 57,
      "outputs": []
    },
    {
      "cell_type": "markdown",
      "source": [
        "## 6. Full Orchestration Pipeline\n",
        "\n",
        "This is the main orchestrator function — `run_agentic_commerce_pipeline(user_request)` — which ties all agents together in sequence:\n",
        "\n",
        "1. Intent understanding  \n",
        "2. Product discovery  \n",
        "3. Price estimation  \n",
        "4. Copy generation  \n",
        "5. Supervision and safety review  \n",
        "6. Trust guardrail validation  \n",
        "7. Transaction and checkout simulation  \n",
        "8. Packaging and report creation  \n",
        "\n",
        "At the end, it produces a JSON report and displays a summary of the pipeline’s execution.  \n",
        "If the guardrails fail, the pipeline halts the transaction before payment is simulated.\n"
      ],
      "metadata": {
        "id": "ZBjVmT6vPDQ5"
      }
    },
    {
      "cell_type": "code",
      "source": [
        "from datetime import datetime\n",
        "import json\n",
        "from IPython.display import display, HTML\n",
        "\n",
        "def run_agentic_commerce_pipeline(user_request):\n",
        "    # 1️⃣ Step-by-step orchestration\n",
        "    intent = intent_planner_agent(user_request)\n",
        "    products = product_discovery_agent(intent)\n",
        "    budget = price_optimizer_agent(products, intent)\n",
        "    copy = commerce_copywriter_agent(intent, products, budget)\n",
        "    supervisor = supervisor_agent(intent, products, budget, copy)\n",
        "    transaction = transaction_agent(intent, budget, products, copy)\n",
        "    checkout = checkout_simulator(transaction, supervisor)\n",
        "\n",
        "    # 2️⃣ Trust & Guardrails ✅ (MUST come before you build final JSON)\n",
        "    guardrail_pass, issues = trust_guardrails(\n",
        "        copy_output=copy,\n",
        "        user_budget=intent.get(\"budget\", 0),\n",
        "        price_optimizer_output=budget,\n",
        "        supervisor_output=supervisor\n",
        "    )\n",
        "\n",
        "    # 3️⃣ Packaging\n",
        "    packaging_agent(intent, products, budget, copy, supervisor)\n",
        "\n",
        "    # 4️⃣ Build Final JSON\n",
        "    final_json = {\n",
        "        \"pipeline_run\": datetime.now().isoformat(),\n",
        "        \"supervisor_agent\": supervisor.get(\"agent_name\", \"Commerce Supervisor Agent\"),\n",
        "        \"intent\": intent.get(\"intent\", user_request),\n",
        "        \"user_budget\": intent.get(\"budget\", 0),\n",
        "        \"guardrail_status\": \"pass\" if guardrail_pass else \"fail\",\n",
        "        \"guardrail_issues\": issues,\n",
        "        \"agents\": {\n",
        "            \"intent_planner_agent\": intent,\n",
        "            \"product_discovery_agent\": products,\n",
        "            \"price_optimizer_agent\": budget,\n",
        "            \"commerce_copywriter_agent\": copy,\n",
        "            \"supervisor_agent\": supervisor,\n",
        "            \"transaction_agent\": transaction,\n",
        "            \"checkout_agent\": checkout\n",
        "        }\n",
        "    }\n",
        "\n",
        "    # 5️⃣ Save and display summary\n",
        "    file_path = f\"agentic_commerce_report_{datetime.now().strftime('%Y-%m-%d_%H-%M-%S')}.json\"\n",
        "    with open(file_path, \"w\", encoding=\"utf-8\") as f:\n",
        "        json.dump(final_json, f, indent=2)\n",
        "\n",
        "    display(HTML(f\"\"\"\n",
        "    <div style=\"border-left:5px solid #000;padding:16px;margin:10px 0;\n",
        "                background-color:#f9f9f9;color:#000;font-family:'Segoe UI',sans-serif;\">\n",
        "      <h3 style=\"margin-top:0;\">✅ Agentic Commerce Pipeline Summary</h3>\n",
        "      <p><b>Intent:</b> {final_json['intent']}</p>\n",
        "      <p><b>Budget:</b> ${final_json['user_budget']}</p>\n",
        "      <p><b>Supervisor Agent:</b> {final_json['supervisor_agent']}</p>\n",
        "      <p><b>Guardrails:</b> {final_json['guardrail_status']}</p>\n",
        "      <p><b>JSON Report Path:</b> <code>{file_path}</code></p>\n",
        "    </div>\n",
        "    \"\"\"))\n",
        "\n",
        "    return final_json\n"
      ],
      "metadata": {
        "id": "uJibzOQnN4aa"
      },
      "execution_count": 61,
      "outputs": []
    },
    {
      "cell_type": "markdown",
      "source": [
        "## 7. Run Interactive Demo\n",
        "\n",
        "The final cell prompts the user for a shopping request (e.g., “I want to set up a cozy home office under $500”).  \n",
        "It then runs the full multi-agent commerce pipeline and displays the results.\n",
        "\n",
        "🧠 Try entering different styles, categories, or budgets to see how the agents reason and whether the **trust guardrails** allow or block the transaction.\n"
      ],
      "metadata": {
        "id": "h2ExT8_ePFz4"
      }
    },
    {
      "cell_type": "code",
      "execution_count": 62,
      "metadata": {
        "colab": {
          "base_uri": "https://localhost:8080/",
          "height": 1000
        },
        "id": "mzDfWHhmNGIv",
        "outputId": "3eb18138-75f1-4525-f767-d18d5beca3ce"
      },
      "outputs": [
        {
          "name": "stdout",
          "output_type": "stream",
          "text": [
            "🧠 What would you like to shop for today? I want to set up a cozy home office under $500 with Scandinavian design\n"
          ]
        },
        {
          "output_type": "display_data",
          "data": {
            "text/plain": [
              "<IPython.core.display.HTML object>"
            ],
            "text/html": [
              "\n",
              "    <div style=\"padding:1em;margin:1em 0;background-color:#f0f4f8;border-left:6px solid #1976D2;\">\n",
              "      <h2 style=\"margin:0;color:#0D47A1;\">🧭 Intent Planner Agent</h2>\n",
              "    </div>"
            ]
          },
          "metadata": {}
        },
        {
          "output_type": "display_data",
          "data": {
            "text/plain": [
              "<IPython.core.display.HTML object>"
            ],
            "text/html": [
              "\n",
              "      <div style=\"border-left:4px solid #2E7D32;padding:1em;margin:1em 0;\n",
              "                  background-color:#e8f5e9;color:#1B5E20;\">\n",
              "        <strong>✅ Output:</strong>\n",
              "        <pre style=\"white-space:pre-wrap;\">{\n",
              "  \"goal\": \"set up a cozy home office\",\n",
              "  \"category\": \"home office\",\n",
              "  \"budget\": 500,\n",
              "  \"style\": [\"Scandinavian\"]\n",
              "}</pre>\n",
              "      </div>"
            ]
          },
          "metadata": {}
        },
        {
          "output_type": "display_data",
          "data": {
            "text/plain": [
              "<IPython.core.display.HTML object>"
            ],
            "text/html": [
              "\n",
              "    <div style=\"padding:1em;margin:1em 0;background-color:#f0f4f8;border-left:6px solid #1976D2;\">\n",
              "      <h2 style=\"margin:0;color:#0D47A1;\">🪑 🛒 Product Discovery Agent</h2>\n",
              "    </div>"
            ]
          },
          "metadata": {}
        },
        {
          "output_type": "display_data",
          "data": {
            "text/plain": [
              "<IPython.core.display.HTML object>"
            ],
            "text/html": [
              "\n",
              "    <div style=\"background:#e3f2fd;padding:10px;border-left:5px solid #1976D2;margin:8px 0;\">\n",
              "    📞 <b>Tool Call:</b> tavily_search_tool → buy contemporary furniture product details price site:amazon.com OR site:ikea.com OR site:wayfair.com OR site:target.com product OR item OR sku OR add to cart\n",
              "    </div>"
            ]
          },
          "metadata": {}
        },
        {
          "output_type": "display_data",
          "data": {
            "text/plain": [
              "<IPython.core.display.HTML object>"
            ],
            "text/html": [
              "\n",
              "    <div style=\"background-color:#FFF3E0;\n",
              "                padding:12px;\n",
              "                border-left:5px solid #000;\n",
              "                margin:8px 0;\n",
              "                color:#000;\n",
              "                font-family:'Segoe UI',sans-serif;\">\n",
              "        <h3 style=\"margin-top:0;\">🛍️ Product Discovery Summary</h3>\n",
              "        <p>Found <b>8</b> individual <i>contemporary furniture</i> items within your budget of $500.</p>\n",
              "        <p style=\"font-size:14px;color:#444;\">(Showing product-level links only — category pages filtered out.)</p>\n",
              "    </div>\n",
              "    "
            ]
          },
          "metadata": {}
        },
        {
          "output_type": "display_data",
          "data": {
            "text/plain": [
              "<IPython.core.display.HTML object>"
            ],
            "text/html": [
              "\n",
              "    <div style=\"padding:1em;margin:1em 0;background-color:#f0f4f8;border-left:6px solid #1976D2;\">\n",
              "      <h2 style=\"margin:0;color:#0D47A1;\">📊 💰 Price Optimizer Agent</h2>\n",
              "    </div>"
            ]
          },
          "metadata": {}
        },
        {
          "output_type": "display_data",
          "data": {
            "text/plain": [
              "<IPython.core.display.HTML object>"
            ],
            "text/html": [
              "\n",
              "    <div style=\"background-color:#E3F2FD;padding:12px;\n",
              "                border-left:5px solid #2196F3;\n",
              "                margin:8px 0;\n",
              "                color:#000;font-family:'Segoe UI',sans-serif;\">\n",
              "      <h3 style=\"margin-top:0;\">💰 Price Optimizer Summary</h3>\n",
              "      <p><b>Estimated total:</b> $1022</p>\n",
              "      <p><b>Budget:</b> $500 — ⚠️ Over budget</p>\n",
              "      <p style=\"font-size:14px;color:#444;\">Prices derived consistently for downstream agents.</p>\n",
              "    </div>\n",
              "    "
            ]
          },
          "metadata": {}
        },
        {
          "output_type": "display_data",
          "data": {
            "text/plain": [
              "<IPython.core.display.HTML object>"
            ],
            "text/html": [
              "\n",
              "    <div style=\"padding:1em;margin:1em 0;background-color:#f0f4f8;border-left:6px solid #1976D2;\">\n",
              "      <h2 style=\"margin:0;color:#0D47A1;\">✍️ Copywriter Agent</h2>\n",
              "    </div>"
            ]
          },
          "metadata": {}
        },
        {
          "output_type": "display_data",
          "data": {
            "text/plain": [
              "<IPython.core.display.HTML object>"
            ],
            "text/html": [
              "\n",
              "      <div style=\"border-left:4px solid #2E7D32;padding:1em;margin:1em 0;\n",
              "                  background-color:#e8f5e9;color:#1B5E20;\">\n",
              "        <strong>✅ Output:</strong>\n",
              "        <pre style=\"white-space:pre-wrap;\">Transform your cozy home office for just $500 with our curated set: sleek black faux leather seating with plush pillows, contemporary office book racks, and a versatile Gracie Oaks white-wash bed with headboard shelves and light. Shop confidently—trusted sellers, SSL-encrypted payments, and instant one-click checkout. Complete your purchase now through our agent and empower your workspace today!</pre>\n",
              "      </div>"
            ]
          },
          "metadata": {}
        },
        {
          "output_type": "display_data",
          "data": {
            "text/plain": [
              "<IPython.core.display.HTML object>"
            ],
            "text/html": [
              "\n",
              "    <div style=\"padding:1em;margin:1em 0;background-color:#f0f4f8;border-left:6px solid #1976D2;\">\n",
              "      <h2 style=\"margin:0;color:#0D47A1;\">🧑‍💼 Supervisor Agent</h2>\n",
              "    </div>"
            ]
          },
          "metadata": {}
        },
        {
          "output_type": "display_data",
          "data": {
            "text/plain": [
              "<IPython.core.display.HTML object>"
            ],
            "text/html": [
              "\n",
              "      <div style=\"border-left:4px solid #2E7D32;padding:1em;margin:1em 0;\n",
              "                  background-color:#e8f5e9;color:#1B5E20;\">\n",
              "        <strong>✅ Output:</strong>\n",
              "        <pre style=\"white-space:pre-wrap;\">{\n",
              "  \"status\": \"fail\",\n",
              "  \"issues\": [\n",
              "    \"Budget mismatch – copy promises a $500 total but the itemized cost is $1,022.\",\n",
              "    \"Misleading item selection – includes a bed with headboard shelves (not a home-office piece).\",\n",
              "    \"Style inconsistency – black faux leather seating conflicts with the requested Scandinavian aesthetic.\",\n",
              "    \"Incomplete description – eight items are budgeted but only three are actually described.\"\n",
              "  ],\n",
              "  \"executive_summary\": \"The marketing copy inaccurately represents a $500 budget by describing only three pieces while the true cost is $1,022, and it even promotes a bed rather than strictly home-office furniture. To pass, the copy must match the budget, stick to eight relevant Scandinavian home-office items, and maintain styling consistency.\"\n",
              "}</pre>\n",
              "      </div>"
            ]
          },
          "metadata": {}
        },
        {
          "output_type": "display_data",
          "data": {
            "text/plain": [
              "<IPython.core.display.HTML object>"
            ],
            "text/html": [
              "\n",
              "    <div style=\"padding:1em;margin:1em 0;background-color:#f0f4f8;border-left:6px solid #1976D2;\">\n",
              "      <h2 style=\"margin:0;color:#0D47A1;\">💼 💳 Transaction Agent</h2>\n",
              "    </div>"
            ]
          },
          "metadata": {}
        },
        {
          "output_type": "display_data",
          "data": {
            "text/plain": [
              "<IPython.core.display.HTML object>"
            ],
            "text/html": [
              "\n",
              "    <div style=\"background-color:#FFF8E1;padding:12px;\n",
              "                border-left:5px solid #000;\n",
              "                margin:8px 0;\n",
              "                color:#000;font-family:'Segoe UI',sans-serif;\">\n",
              "      <h3 style=\"margin-top:0;\">💳 Transaction Summary</h3>\n",
              "      <p><b>Total Amount:</b> $1022</p>\n",
              "      <p><b>Items:</b> 8</p>\n",
              "      <p><b>Budget Status:</b> ⚠️ Over budget</p>\n",
              "    </div>\n",
              "    "
            ]
          },
          "metadata": {}
        },
        {
          "output_type": "display_data",
          "data": {
            "text/plain": [
              "<IPython.core.display.HTML object>"
            ],
            "text/html": [
              "\n",
              "    <div style=\"padding:1em;margin:1em 0;background-color:#f0f4f8;border-left:6px solid #1976D2;\">\n",
              "      <h2 style=\"margin:0;color:#0D47A1;\">🛍️ 🧾 Checkout Simulator</h2>\n",
              "    </div>"
            ]
          },
          "metadata": {}
        },
        {
          "output_type": "display_data",
          "data": {
            "text/plain": [
              "<IPython.core.display.HTML object>"
            ],
            "text/html": [
              "\n",
              "    <div style=\"border-left:5px solid #C62828;padding:16px;margin:10px 0;\n",
              "                background-color:#FFEBEE;color:#000;font-family:'Segoe UI',sans-serif;\">\n",
              "      <h3 style=\"margin-top:0;\">🧾 Agentic Checkout Receipt</h3>\n",
              "      <p><b>Total:</b> $1022</p>\n",
              "      <p><b>Supervisor:</b> fail</p>\n",
              "      <p><b>Status:</b> ❌ Blocked (Over Budget)</p>\n",
              "    </div>\n",
              "    "
            ]
          },
          "metadata": {}
        },
        {
          "output_type": "display_data",
          "data": {
            "text/plain": [
              "<IPython.core.display.HTML object>"
            ],
            "text/html": [
              "\n",
              "    <div style=\"padding:1em;margin:1em 0;background-color:#f0f4f8;border-left:6px solid #1976D2;\">\n",
              "      <h2 style=\"margin:0;color:#0D47A1;\">🧭 🛡️ Trust Guardrails Agent</h2>\n",
              "    </div>"
            ]
          },
          "metadata": {}
        },
        {
          "output_type": "display_data",
          "data": {
            "text/plain": [
              "<IPython.core.display.HTML object>"
            ],
            "text/html": [
              "\n",
              "    <div style=\"border-left:6px solid #C62828;\n",
              "                padding:16px;\n",
              "                margin:12px 0;\n",
              "                background-color:#FFEBEE;\n",
              "                color:#111;\n",
              "                font-family:'Segoe UI',sans-serif;\n",
              "                line-height:1.5;\n",
              "                box-shadow:0 2px 6px rgba(0,0,0,0.08);\n",
              "                border-radius:8px;\">\n",
              "      <h3 style=\"margin-top:0;\n",
              "                 color:#C62828;\n",
              "                 font-size:18px;\">\n",
              "        ⚠️ Trust Guardrails Summary\n",
              "      </h3>\n",
              "      <ul style=\"margin-top:8px;\n",
              "                 color:#000;\n",
              "                 font-size:14px;\">\n",
              "        <li>Estimated total $1022 exceeds user budget $500.</li><li>Supervisor did not approve the pipeline execution.</li><li>Copywriter text does not include a clear call-to-action to purchase.</li>\n",
              "      </ul>\n",
              "      <p style=\"margin-top:10px;\n",
              "                font-weight:600;\n",
              "                font-size:15px;\n",
              "                color:#C62828;\">\n",
              "        Status: FAIL\n",
              "      </p>\n",
              "      <p style=\"margin-top:4px;font-size:13px;color:#555;\">\n",
              "        <b>Verified Total:</b> $1022 | <b>User Budget:</b> $500\n",
              "      </p>\n",
              "    </div>\n",
              "    "
            ]
          },
          "metadata": {}
        },
        {
          "output_type": "display_data",
          "data": {
            "text/plain": [
              "<IPython.core.display.HTML object>"
            ],
            "text/html": [
              "\n",
              "    <div style=\"padding:1em;margin:1em 0;background-color:#f0f4f8;border-left:6px solid #1976D2;\">\n",
              "      <h2 style=\"margin:0;color:#0D47A1;\">📦 Packaging Agent</h2>\n",
              "    </div>"
            ]
          },
          "metadata": {}
        },
        {
          "output_type": "display_data",
          "data": {
            "text/plain": [
              "<IPython.core.display.HTML object>"
            ],
            "text/html": [
              "\n",
              "    <div style=\"font-family:Arial;max-width:800px;margin:auto;\">\n",
              "      <h2>🛍️ Agentic Commerce Report</h2>\n",
              "      <p><b>Goal:</b> set up a cozy home office — <b>Budget:</b> $500</p>\n",
              "      \n",
              "        <div style=\"display:flex;align-items:center;gap:12px;border:1px solid #ddd;\n",
              "                    padding:8px;margin-bottom:10px;border-radius:8px;\">\n",
              "            \n",
              "            <div><b>Contemporary Furniture : Black Faux Leather With Pillows 2pc In ...</b><br><small>Contemporary Furniture : Black Faux Leather With Pillows 2pc In Leather: For Modern Living Room ; ByLark Manor™ ; Professional Assembly -. $103.99 ; 5 Year</small><br>\n",
              "            <a href=\"https://www.wayfair.com/furniture/pdp/lark-manor-contemporary-furniture-black-faux-leather-with-pillows-2pc-in-leather-for-modern-living-room-w115197896.html\" target=\"_blank\">View</a></div>\n",
              "        </div>\n",
              "        <div style=\"display:flex;align-items:center;gap:12px;border:1px solid #ddd;\n",
              "                    padding:8px;margin-bottom:10px;border-radius:8px;\">\n",
              "            \n",
              "            <div><b>Office Book Racks - Contemporary / Shelf / Furniture</b><br><small>Contemporary · & Up · Up to $45 ... Price and other details may vary based on product size and color. ... 100+ bought in past month. Add to cart. See all details.</small><br>\n",
              "            <a href=\"https://us.amazon.com/Office-Book-Racks-Shelf-Contemporary-Furniture/s?keywords=Office+Book+Racks&rh=n%3A21513135011%2Cp_n_g-1004163612091%3A262967011&c=ts&ts_id=21513135011\" target=\"_blank\">View</a></div>\n",
              "        </div>\n",
              "        <div style=\"display:flex;align-items:center;gap:12px;border:1px solid #ddd;\n",
              "                    padding:8px;margin-bottom:10px;border-radius:8px;\">\n",
              "            \n",
              "            <div><b>Gracie Oaks Bed w Headboard Shelves and Light White Wash ...</b><br><small>Bed w Headboard Shelves and Light White Wash Contemporary Furniture. $1,159.99. Current Item ; Auriel Solid Wood Standard Bed. $550.00 was$610.00. (1427). Rated</small><br>\n",
              "            <a href=\"https://www.wayfair.com/furniture/pdp/gracie-oaks-bed-w-headboard-shelves-and-light-white-wash-contemporary-furniture-w113995507.html\" target=\"_blank\">View</a></div>\n",
              "        </div>\n",
              "        <div style=\"display:flex;align-items:center;gap:12px;border:1px solid #ddd;\n",
              "                    padding:8px;margin-bottom:10px;border-radius:8px;\">\n",
              "            \n",
              "            <div><b>Contemporary Modern Furniture</b><br><small>COLAMY Modern Velvet Accent Chairs Set of 2, Upholstered Barrel Chairs, Comfy Side Arm Chairs with 3 Legs for Living Room, Bedroom, Reading, Khaki.</small><br>\n",
              "            <a href=\"https://www.amazon.com/Contemporary-Modern-Furniture/s?k=Contemporary+Modern+Furniture\" target=\"_blank\">View</a></div>\n",
              "        </div>\n",
              "        <div style=\"display:flex;align-items:center;gap:12px;border:1px solid #ddd;\n",
              "                    padding:8px;margin-bottom:10px;border-radius:8px;\">\n",
              "            \n",
              "            <div><b>All Modern Furniture</b><br><small>Check each product page for other buying options. Price and other details may vary based on product size and color. LIKIMIO 118\" Modern L-Shaped Modular</small><br>\n",
              "            <a href=\"https://www.amazon.com/modern-furniture/s?k=all+modern+furniture\" target=\"_blank\">View</a></div>\n",
              "        </div>\n",
              "        <div style=\"display:flex;align-items:center;gap:12px;border:1px solid #ddd;\n",
              "                    padding:8px;margin-bottom:10px;border-radius:8px;\">\n",
              "            \n",
              "            <div><b>Contemporary Rectangle 3-Piece Occasional Table Set ...</b><br><small>Brand. Liveasy Furniture · Product Dimensions. 46\"D x 32\"W x 19\"H · Item Weight. 90 Pounds · Frame Material. Glass · Color. Black · Top Material Type. Wood.</small><br>\n",
              "            <a href=\"https://www.amazon.com/Liveasy-Furniture-Contemporary-Occasional-Coffee/dp/B0CVLZTFYC\" target=\"_blank\">View</a></div>\n",
              "        </div>\n",
              "        <div style=\"display:flex;align-items:center;gap:12px;border:1px solid #ddd;\n",
              "                    padding:8px;margin-bottom:10px;border-radius:8px;\">\n",
              "            \n",
              "            <div><b>Modern & Contemporary Sofas</b><br><small>* Modern Sofas On Sale * Modern Sofas Medium Wood Modern Sofas Espresso Wood Modern Sofas Light Wood Modern Sofas Modern White Wood Sofas Modern Red Wood Sofas Gray Wood Modern Sofas Country / Farmhouse & Modern Sofas Mid-Century Modern & Modern Sofas Sofas Modern & Traditional Sofas Modern & Scandinavian Sofas Modern & Retro Sofas Modern Square arm Sofas Modern Rolled / Round Arms Sofas Modern Pillow Top arm Sofas Modern Recessed arm Sofas Flared arm Modern Sofas Modern Tuxedo arm Sofas Charles of London Modern Sofas Armless Modern Sofas # Modern & Contemporary Sofas This 3-person sofa brings classic style with a modern finish to your living room, office, or den. Reclining Sofas Custom Sectionals & Sectional Sofas Custom Sofas</small><br>\n",
              "            <a href=\"https://www.wayfair.com/furniture/sb1/modern-sofas-c413892-a154722~517605.html\" target=\"_blank\">View</a></div>\n",
              "        </div>\n",
              "        <div style=\"display:flex;align-items:center;gap:12px;border:1px solid #ddd;\n",
              "                    padding:8px;margin-bottom:10px;border-radius:8px;\">\n",
              "            \n",
              "            <div><b>Furniture of America Selyra Modern Contemporary Solid ...</b><br><small>Brand. Furniture of America ; Product Dimensions. 26\"D x 48\"W x 18\"H ; Item Weight. 81 Pounds ; Frame Material. Rubber Wood ; Color. Ash Gray.</small><br>\n",
              "            <a href=\"https://www.amazon.com/Furniture-America-Contemporary-Stainless-Ball-Bearing/dp/B0DM1XQPYV\" target=\"_blank\">View</a></div>\n",
              "        </div>\n",
              "      <h3>Copywriter Summary</h3><p>Transform your cozy home office for just $500 with our curated set: sleek black faux leather seating with plush pillows, contemporary office book racks, and a versatile Gracie Oaks white-wash bed with headboard shelves and light. Shop confidently—trusted sellers, SSL-encrypted payments, and instant one-click checkout. Complete your purchase now through our agent and empower your workspace today!</p>\n",
              "      <h3>Supervisor QA</h3>\n",
              "      <p><b>Status:</b> fail</p>\n",
              "      <blockquote>The marketing copy inaccurately represents a $500 budget by describing only three pieces while the true cost is $1,022, and it even promotes a bed rather than strictly home-office furniture. To pass, the copy must match the budget, stick to eight relevant Scandinavian home-office items, and maintain styling consistency.</blockquote>\n",
              "      <hr><small>Generated 2025-10-25 01:36:27</small>\n",
              "    </div>"
            ]
          },
          "metadata": {}
        },
        {
          "output_type": "display_data",
          "data": {
            "text/plain": [
              "<IPython.core.display.HTML object>"
            ],
            "text/html": [
              "\n",
              "    <div style=\"border-left:5px solid #000;padding:16px;margin:10px 0;\n",
              "                background-color:#f9f9f9;color:#000;font-family:'Segoe UI',sans-serif;\">\n",
              "      <h3 style=\"margin-top:0;\">✅ Agentic Commerce Pipeline Summary</h3>\n",
              "      <p><b>Intent:</b> I want to set up a cozy home office under $500 with Scandinavian design</p>\n",
              "      <p><b>Budget:</b> $500</p>\n",
              "      <p><b>Supervisor Agent:</b> Supervisor Agent</p>\n",
              "      <p><b>Guardrails:</b> fail</p>\n",
              "      <p><b>JSON Report Path:</b> <code>agentic_commerce_report_2025-10-25_01-36-27.json</code></p>\n",
              "    </div>\n",
              "    "
            ]
          },
          "metadata": {}
        }
      ],
      "source": [
        "\n",
        "# =====================================================\n",
        "# 7. RUN PIPELINE\n",
        "# =====================================================\n",
        "user_request = input(\"🧠 What would you like to shop for today? \")\n",
        "\n",
        "# Example: \"I want to set up a cozy home office under $500 with Scandinavian design.\"\n",
        "final_summary = run_agentic_commerce_pipeline(user_request)\n"
      ]
    }
  ]
}