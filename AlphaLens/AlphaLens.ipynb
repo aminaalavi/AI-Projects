{
  "nbformat": 4,
  "nbformat_minor": 0,
  "metadata": {
    "colab": {
      "provenance": []
    },
    "kernelspec": {
      "name": "python3",
      "display_name": "Python 3"
    },
    "language_info": {
      "name": "python"
    }
  },
  "cells": [
    {
      "cell_type": "markdown",
      "source": [
        "# 🧠 AlphaLens Earnings Pack\n",
        "\n",
        "Automated multi-agent system for generating **portfolio-ready earnings analysis**.  \n",
        "AlphaLens transforms scattered financial data — SEC filings, consensus estimates, and transcripts — into a polished, markdown-based *Earnings Pack* ready for PM briefings or investment committee decks.\n",
        "\n",
        "---\n",
        "\n",
        "## 🎯 What It Does\n",
        "\n",
        "AlphaLens automates a complete **sell-side research workflow**:\n",
        "\n",
        "1. **Research Agent** — Combines SEC / IR filings and Street consensus → *Pre-Call Brief*  \n",
        "2. **Analyst Agent** — Builds post-call deltas, scenarios, and risks → *Post-Call Analysis*  \n",
        "3. **Chart Maker Agent** — Pulls last 90-day price history via Yahoo Finance → *Price Trend Chart*  \n",
        "4. **Packaging Agent** — Merges everything into a professional Markdown report → *Earnings Pack (Markdown + Inline Chart)*  \n"
      ],
      "metadata": {
        "id": "VMnwjB--bqot"
      }
    },
    {
      "cell_type": "code",
      "source": [
        "# -*- coding: utf-8 -*-\n",
        "\"\"\"Earnings-Pack Copilot for Equity Research.ipynb\"\"\"\n",
        "\n",
        "# ============================================================\n",
        "# 1. SETUP\n",
        "# ============================================================\n",
        "\n",
        "import sys, os\n",
        "from google.colab import userdata\n",
        "from google.colab import drive\n",
        "drive.mount('/content/drive')\n",
        "\n",
        "project_path = '/content/drive/My Drive/LLM/Ng/EarningsPack'\n",
        "os.chdir(project_path)\n",
        "sys.path.append(project_path)\n",
        "\n",
        "print(\"Current directory:\", os.getcwd())\n",
        "!ls\n",
        "\n",
        "# 🔧 Required libraries\n",
        "!pip install aisuite[openai] -q\n",
        "!pip install tavily-python -q\n",
        "!pip install yfinance -q\n",
        "!pip install matplotlib -q\n",
        "!pip install pandas -q"
      ],
      "metadata": {
        "colab": {
          "base_uri": "https://localhost:8080/"
        },
        "id": "X1ibf8vaPy76",
        "outputId": "672c14ac-f1e9-4d09-97c1-48eef21c66d9"
      },
      "execution_count": 1,
      "outputs": [
        {
          "output_type": "stream",
          "name": "stdout",
          "text": [
            "Mounted at /content/drive\n",
            "Current directory: /content/drive/My Drive/LLM/Ng/EarningsPack\n",
            "AAPL_price_chart.png\n",
            "AlphaLens.ipynb\n",
            "BAC_Earnings_Pack_2025-10-14_00-19-23.md\n",
            "BAC_Earnings_Pack_2025-10-14_00-21-11.md\n",
            "BAC_price_chart.png\n",
            "NVDA_earnings_pack_2025-10-13_20-31-43.md\n",
            "NVDA_earnings_pack_2025-10-13_20-39-39.md\n",
            "NVDA_Earnings_Pack_2025-10-13_20-53-36.md\n",
            "NVDA_Earnings_Pack_2025-10-13_20-59-02.md\n",
            "NVDA_Earnings_Pack_2025-10-13_23-12-00.md\n",
            "NVDA_price_chart.png\n",
            "TSLA_Earnings_Pack_2025-10-13_21-03-43.md\n",
            "TSLA_Earnings_Pack_2025-10-13_23-13-58.md\n",
            "TSLA_Earnings_Pack_2025-10-13_23-16-41.md\n",
            "TSLA_price_chart.png\n",
            "\u001b[2K   \u001b[90m━━━━━━━━━━━━━━━━━━━━━━━━━━━━━━━━━━━━━━━━\u001b[0m \u001b[32m76.4/76.4 kB\u001b[0m \u001b[31m3.9 MB/s\u001b[0m eta \u001b[36m0:00:00\u001b[0m\n",
            "\u001b[2K   \u001b[90m━━━━━━━━━━━━━━━━━━━━━━━━━━━━━━━━━━━━━━━━\u001b[0m \u001b[32m41.3/41.3 kB\u001b[0m \u001b[31m1.9 MB/s\u001b[0m eta \u001b[36m0:00:00\u001b[0m\n",
            "\u001b[?25h\u001b[31mERROR: pip's dependency resolver does not currently take into account all the packages that are installed. This behaviour is the source of the following dependency conflicts.\n",
            "google-genai 1.44.0 requires httpx<1.0.0,>=0.28.1, but you have httpx 0.27.2 which is incompatible.\n",
            "firebase-admin 6.9.0 requires httpx[http2]==0.28.1, but you have httpx 0.27.2 which is incompatible.\n",
            "simple-parsing 0.1.7 requires docstring-parser<1.0,>=0.15, but you have docstring-parser 0.14.1 which is incompatible.\u001b[0m\u001b[31m\n",
            "\u001b[0m"
          ]
        }
      ]
    },
    {
      "cell_type": "code",
      "source": [
        "\n",
        "\n",
        "# ============================================================\n",
        "# 2. LIBRARIES & HTML LOGGING\n",
        "# ============================================================\n",
        "\n",
        "import base64, json\n",
        "from html import escape\n",
        "from datetime import datetime\n",
        "from typing import Any\n",
        "import pandas as pd\n",
        "from IPython.display import display, HTML, Markdown\n",
        "import matplotlib.pyplot as plt\n",
        "import yfinance as yf\n",
        "import aisuite\n",
        "from tavily import TavilyClient\n",
        "from dotenv import load_dotenv\n",
        "\n",
        "def log_agent_title_html(title, icon=\"🧠\"):\n",
        "    display(HTML(f\"\"\"\n",
        "    <div style=\"padding:1em;margin:1em 0;background-color:#f0f4f8;border-left:6px solid #1976D2;\">\n",
        "    <h2 style=\"margin:0;color:#0D47A1;\">{icon} {escape(title)}</h2></div>\"\"\"))\n",
        "\n",
        "def log_tool_call_html(tool_name, arguments):\n",
        "    display(HTML(f\"\"\"\n",
        "    <div style=\"border-left:4px solid #1976D2;padding:.8em;margin:1em 0;\n",
        "                background-color:#e3f2fd;color:#0D47A1;\">\n",
        "      <strong>📞 Tool Call:</strong> {escape(tool_name)}\n",
        "      <pre style=\"background:#e8f0fe;padding:6px;border-radius:4px;\">{escape(str(arguments))}</pre>\n",
        "    </div>\"\"\"))\n",
        "\n",
        "def log_tool_result_html(result):\n",
        "    display(HTML(f\"\"\"\n",
        "    <div style=\"border-left:4px solid #558B2F;padding:.8em;margin:1em 0;\n",
        "                background-color:#f1f8e9;color:#33691E;\">\n",
        "      <strong>✅ Tool Result:</strong>\n",
        "      <pre style=\"white-space:pre-wrap;font-size:13px;color:#2E7D32;\">{escape(str(result))}</pre>\n",
        "    </div>\"\"\"))\n",
        "\n",
        "def log_final_summary_html(content):\n",
        "    display(HTML(f\"\"\"\n",
        "      <div style=\"border-left:4px solid #2E7D32;padding:1em;margin:1em 0;\n",
        "                  background-color:#e8f5e9;color:#1B5E20;\">\n",
        "        <strong>✅ Final Summary:</strong>\n",
        "        <pre style=\"white-space:pre-wrap;font-size:13px;\">{escape(content.strip())}</pre>\n",
        "      </div>\"\"\"))\n",
        "\n",
        "# ============================================================\n",
        "# 3. ENVIRONMENT & CLIENT\n",
        "# ============================================================\n",
        "\n",
        "os.environ[\"OPENAI_API_KEY\"] = userdata.get('OPENAI_API_KEY')\n",
        "os.environ[\"TAVILY_API_KEY\"] = userdata.get('TAVILY_API_KEY')\n",
        "load_dotenv()\n",
        "client = aisuite.Client()"
      ],
      "metadata": {
        "id": "mV4Xtih8P2Lj"
      },
      "execution_count": 2,
      "outputs": []
    },
    {
      "cell_type": "code",
      "source": [
        "\n",
        "\n",
        "# ============================================================\n",
        "# 4. TOOLS\n",
        "# ============================================================\n",
        "\n",
        "import os\n",
        "from tavily import TavilyClient\n",
        "\n",
        "def sec_filings_search_tool(query: str, max_results: int = 5, include_images: bool = False):\n",
        "    \"\"\"\n",
        "    Searches for company filings, transcripts, and investor-relations updates using Tavily.\n",
        "\n",
        "    Args:\n",
        "        query (str): Company name or ticker plus context (e.g., 'AAPL 10-Q earnings transcript').\n",
        "        max_results (int): Number of search results.\n",
        "        include_images (bool): Whether to include related visuals.\n",
        "\n",
        "    Returns:\n",
        "        list[dict]: List of {title, content, url}.\n",
        "    \"\"\"\n",
        "    client_tv = TavilyClient(api_key=os.getenv(\"TAVILY_API_KEY\"))\n",
        "\n",
        "    query = \" \".join(query.split())\n",
        "\n",
        "    try:\n",
        "        response = client_tv.search(query=query, max_results=max_results, include_images=include_images)\n",
        "        results = [\n",
        "            {\"title\": r.get(\"title\"), \"content\": r.get(\"content\"), \"url\": r.get(\"url\")}\n",
        "            for r in response.get(\"results\", [])\n",
        "        ]\n",
        "        return results\n",
        "    except Exception as e:\n",
        "        return [{\"title\": \"⚠️ Error\", \"content\": f\"Tavily API call failed: {e}\", \"url\": None}]\n",
        "\n",
        "\n",
        "def consensus_api_tool(ticker: str):\n",
        "    \"\"\"\n",
        "    Uses Tavily to retrieve analyst expectations, consensus numbers, or KPI trends.\n",
        "\n",
        "    Args:\n",
        "        ticker (str): Company ticker symbol.\n",
        "\n",
        "    Returns:\n",
        "        list[dict]: Snippets summarizing analyst forecasts and expectations.\n",
        "    \"\"\"\n",
        "    query = f\"{ticker} earnings consensus analyst expectations\"\n",
        "    query = \" \".join(query.split())\n",
        "\n",
        "    return sec_filings_search_tool(query=query, max_results=5)\n",
        "\n",
        "\n",
        "\n",
        "def price_history_tool(ticker: str, lookback_days: int = 90) -> pd.DataFrame:\n",
        "    \"\"\"\n",
        "    Fetches historical price data via Yahoo Finance for visualization.\n",
        "\n",
        "    Args:\n",
        "        ticker (str): Stock ticker.\n",
        "        lookback_days (int): How many days of history to fetch.\n",
        "\n",
        "    Returns:\n",
        "        pd.DataFrame: Historical OHLCV dataframe.\n",
        "    \"\"\"\n",
        "    df = yf.download(ticker, period=f\"{lookback_days}d\", interval=\"1d\")\n",
        "    df.reset_index(inplace=True)\n",
        "    return df\n",
        "\n",
        "\n",
        "def get_available_tools():\n",
        "    \"\"\"Registers the tools available to all agents.\"\"\"\n",
        "    return [\n",
        "        {\"type\":\"function\",\"function\":{\n",
        "            \"name\":\"sec_filings_search_tool\",\n",
        "            \"description\":\"Search SEC filings, transcripts, or IR data using Tavily.\",\n",
        "            \"parameters\":{\"type\":\"object\",\"properties\":{\"query\":{\"type\":\"string\"},\"max_results\":{\"type\":\"integer\"}}, \"required\":[\"query\"]}}},\n",
        "        {\"type\":\"function\",\"function\":{\n",
        "            \"name\":\"consensus_api_tool\",\n",
        "            \"description\":\"Fetch consensus estimates or analyst expectations using Tavily.\",\n",
        "            \"parameters\":{\"type\":\"object\",\"properties\":{\"ticker\":{\"type\":\"string\"}}, \"required\":[\"ticker\"]}}},\n",
        "        {\"type\":\"function\",\"function\":{\n",
        "            \"name\":\"price_history_tool\",\n",
        "            \"description\":\"Fetch stock price history from Yahoo Finance.\",\n",
        "            \"parameters\":{\"type\":\"object\",\"properties\":{\"ticker\":{\"type\":\"string\"}}, \"required\":[\"ticker\"]}}}\n",
        "    ]"
      ],
      "metadata": {
        "id": "TcVhceUgQCCK"
      },
      "execution_count": 3,
      "outputs": []
    },
    {
      "cell_type": "code",
      "source": [
        "#TEST\n",
        "import os\n",
        "from tavily import TavilyClient\n",
        "\n",
        "def sec_filings_search_tool(query: str, max_results: int = 5, include_images: bool = False):\n",
        "    \"\"\"\n",
        "    Searches for company filings, transcripts, and investor-relations updates using Tavily.\n",
        "\n",
        "    Args:\n",
        "        query (str): Company name or ticker plus context (e.g., 'AAPL 10-Q earnings transcript').\n",
        "        max_results (int): Number of search results.\n",
        "        include_images (bool): Whether to include related visuals.\n",
        "\n",
        "    Returns:\n",
        "        list[dict]: List of {title, content, url}.\n",
        "    \"\"\"\n",
        "    client_tv = TavilyClient(api_key=os.getenv(\"TAVILY_API_KEY\"))\n",
        "\n",
        "    # Sanitize query to avoid Tavily 422 errors\n",
        "    query = \" \".join(query.split())\n",
        "\n",
        "    try:\n",
        "        response = client_tv.search(query=query, max_results=max_results, include_images=include_images)\n",
        "        results = [\n",
        "            {\"title\": r.get(\"title\"), \"content\": r.get(\"content\"), \"url\": r.get(\"url\")}\n",
        "            for r in response.get(\"results\", [])\n",
        "        ]\n",
        "        return results\n",
        "    except Exception as e:\n",
        "        return [{\"title\": \"⚠️ Error\", \"content\": f\"Tavily API call failed: {e}\", \"url\": None}]\n",
        "\n",
        "\n",
        "def consensus_api_tool(ticker: str):\n",
        "    \"\"\"\n",
        "    Uses Tavily to retrieve analyst expectations, consensus numbers, or KPI trends.\n",
        "\n",
        "    Args:\n",
        "        ticker (str): Company ticker symbol.\n",
        "\n",
        "    Returns:\n",
        "        list[dict]: Snippets summarizing analyst forecasts and expectations.\n",
        "    \"\"\"\n",
        "    query = f\"{ticker} earnings consensus analyst expectations\"\n",
        "    query = \" \".join(query.split())\n",
        "\n",
        "    return sec_filings_search_tool(query=query, max_results=5)\n"
      ],
      "metadata": {
        "id": "fWQxJpoBugbM"
      },
      "execution_count": 4,
      "outputs": []
    },
    {
      "cell_type": "code",
      "source": [
        "#TEST\n",
        "from datetime import datetime\n",
        "\n",
        "def research_agent(ticker: str):\n",
        "    \"\"\"\n",
        "    Builds the Pre-Call Brief by combining management guidance (SEC / IR)\n",
        "    and Street expectations (consensus) using Tavily tools.\n",
        "\n",
        "    Tools available:\n",
        "    - sec_filings_search_tool: pulls recent filings, transcripts, and guidance.\n",
        "    - consensus_api_tool: fetches consensus revenue / EPS / margin data.\n",
        "\n",
        "    Args:\n",
        "        ticker (str): Company ticker symbol (e.g., \"NVDA\").\n",
        "\n",
        "    Returns:\n",
        "        str: Structured Pre-Call Brief in Markdown format.\n",
        "    \"\"\"\n",
        "\n",
        "    log_agent_title_html(\"Research Agent\", \"🧩\")\n",
        "\n",
        "    # Step 1️⃣ — Fetch SEC/transcript commentary\n",
        "    log_tool_result_html(f\"🔍 Searching SEC filings and transcripts for {ticker} ...\")\n",
        "    sec_query = f\"{ticker} latest earnings call transcript management guidance 10-Q highlights\"\n",
        "    sec_results = sec_filings_search_tool(query=sec_query, max_results=3)\n",
        "    log_tool_result_html(\"✅ SEC / IR insights retrieved.\")\n",
        "\n",
        "    # Step 2️⃣ — Fetch consensus estimates\n",
        "    log_tool_result_html(f\"📊 Fetching consensus expectations for {ticker} ...\")\n",
        "    consensus_results = consensus_api_tool(ticker)\n",
        "    log_tool_result_html(\"✅ Consensus estimates retrieved.\")\n",
        "\n",
        "    # Step 3️⃣ — Build unified prompt\n",
        "    prompt = f\"\"\"\n",
        "You are a sell-side equity research associate preparing a **Pre-Call Brief**\n",
        "for {ticker} ahead of its next earnings call.\n",
        "\n",
        "You have two sources:\n",
        "1. **Management commentary and guidance (from SEC / transcripts):**\n",
        "{sec_results}\n",
        "\n",
        "2. **Street consensus expectations (from analyst data):**\n",
        "{consensus_results}\n",
        "\n",
        "Your objectives:\n",
        "- Summarize the company’s tone, guidance, and strategic priorities.\n",
        "- Create a Markdown table titled “### Guidance vs Consensus Snapshot”\n",
        "  with columns: Metric | Management Guidance | Street Consensus | Delta | Comment.\n",
        "- Add 2–3 focus areas investors will watch this quarter.\n",
        "- End with a short “Analyst Preview” paragraph on sentiment and expectations.\n",
        "- Keep tone professional, concise, factual.\n",
        "\n",
        "Today’s date: {datetime.now().strftime(\"%Y-%m-%d\")}\n",
        "\"\"\"\n",
        "\n",
        "    response = client.chat.completions.create(\n",
        "        model=\"openai:o4-mini\",\n",
        "        messages=[{\"role\": \"user\", \"content\": prompt}]\n",
        "    )\n",
        "\n",
        "    summary = response.choices[0].message.content.strip()\n",
        "    log_final_summary_html(summary)\n",
        "    return summary\n"
      ],
      "metadata": {
        "id": "GE3Frev0ws8B"
      },
      "execution_count": 5,
      "outputs": []
    },
    {
      "cell_type": "code",
      "source": [
        "# Test the research agent independently\n",
        "research_result = research_agent(\"BAC\")"
      ],
      "metadata": {
        "colab": {
          "base_uri": "https://localhost:8080/",
          "height": 986
        },
        "id": "PSYbGdR-QcbP",
        "outputId": "3d1a36e0-4c0a-404c-981b-a21200f6a684"
      },
      "execution_count": 6,
      "outputs": [
        {
          "output_type": "display_data",
          "data": {
            "text/plain": [
              "<IPython.core.display.HTML object>"
            ],
            "text/html": [
              "\n",
              "    <div style=\"padding:1em;margin:1em 0;background-color:#f0f4f8;border-left:6px solid #1976D2;\">\n",
              "    <h2 style=\"margin:0;color:#0D47A1;\">🧩 Research Agent</h2></div>"
            ]
          },
          "metadata": {}
        },
        {
          "output_type": "display_data",
          "data": {
            "text/plain": [
              "<IPython.core.display.HTML object>"
            ],
            "text/html": [
              "\n",
              "    <div style=\"border-left:4px solid #558B2F;padding:.8em;margin:1em 0;\n",
              "                background-color:#f1f8e9;color:#33691E;\">\n",
              "      <strong>✅ Tool Result:</strong>\n",
              "      <pre style=\"white-space:pre-wrap;font-size:13px;color:#2E7D32;\">🔍 Searching SEC filings and transcripts for BAC ...</pre>\n",
              "    </div>"
            ]
          },
          "metadata": {}
        },
        {
          "output_type": "display_data",
          "data": {
            "text/plain": [
              "<IPython.core.display.HTML object>"
            ],
            "text/html": [
              "\n",
              "    <div style=\"border-left:4px solid #558B2F;padding:.8em;margin:1em 0;\n",
              "                background-color:#f1f8e9;color:#33691E;\">\n",
              "      <strong>✅ Tool Result:</strong>\n",
              "      <pre style=\"white-space:pre-wrap;font-size:13px;color:#2E7D32;\">✅ SEC / IR insights retrieved.</pre>\n",
              "    </div>"
            ]
          },
          "metadata": {}
        },
        {
          "output_type": "display_data",
          "data": {
            "text/plain": [
              "<IPython.core.display.HTML object>"
            ],
            "text/html": [
              "\n",
              "    <div style=\"border-left:4px solid #558B2F;padding:.8em;margin:1em 0;\n",
              "                background-color:#f1f8e9;color:#33691E;\">\n",
              "      <strong>✅ Tool Result:</strong>\n",
              "      <pre style=\"white-space:pre-wrap;font-size:13px;color:#2E7D32;\">📊 Fetching consensus expectations for BAC ...</pre>\n",
              "    </div>"
            ]
          },
          "metadata": {}
        },
        {
          "output_type": "display_data",
          "data": {
            "text/plain": [
              "<IPython.core.display.HTML object>"
            ],
            "text/html": [
              "\n",
              "    <div style=\"border-left:4px solid #558B2F;padding:.8em;margin:1em 0;\n",
              "                background-color:#f1f8e9;color:#33691E;\">\n",
              "      <strong>✅ Tool Result:</strong>\n",
              "      <pre style=\"white-space:pre-wrap;font-size:13px;color:#2E7D32;\">✅ Consensus estimates retrieved.</pre>\n",
              "    </div>"
            ]
          },
          "metadata": {}
        },
        {
          "output_type": "display_data",
          "data": {
            "text/plain": [
              "<IPython.core.display.HTML object>"
            ],
            "text/html": [
              "\n",
              "      <div style=\"border-left:4px solid #2E7D32;padding:1em;margin:1em 0;\n",
              "                  background-color:#e8f5e9;color:#1B5E20;\">\n",
              "        <strong>✅ Final Summary:</strong>\n",
              "        <pre style=\"white-space:pre-wrap;font-size:13px;\">Below is our Pre-Call Brief for Bank of America (BAC).  \n",
              "\n",
              "Company Tone &amp; Strategic Priorities  \n",
              "• Tone: Confident, focused on sustaining disciplined expense management while broadening fee-based revenue.  \n",
              "• Strategic priorities:  \n",
              "  – Leverage strong expense control (600 bps+ operating leverage in Q3) to drive margin expansion  \n",
              "  – Capitalize on momentum in investment banking (Q3 fees +43% YoY) and sales &amp; trading (+8% YoY)  \n",
              "  – Grow asset‐management and wealth-management fees to diversify revenue mix  \n",
              "  – Maintain prudent credit standards amid a slowing loan environment  \n",
              "\n",
              "### Guidance vs Consensus Snapshot\n",
              "\n",
              "| Metric                       | Management Guidance             | Street Consensus               | Delta        | Comment                                   |\n",
              "|------------------------------|---------------------------------|--------------------------------|--------------|-------------------------------------------|\n",
              "| FY 2025 EPS                   | ~$3.80*                          | $3.75 (Nasdaq)                 | +1.3%        | In line with consensus; modest upside     |\n",
              "| FY 2025 Revenue Growth        | Mid-single-digit                 | 6.0% (SimplyWall)              | ~ flat       | Management expects stable top-line growth |\n",
              "| FY 2025 EPS Growth (YoY)      | Double-digit (driven by op lev.) | 6.5% (SimplyWall)              | +3.5pp       | Operating leverage key to outpace peers   |\n",
              "\n",
              "*Mgmt did not give an explicit FY 2025 EPS number; ~$3.80 reflects midpoint of implied guidance.\n",
              "\n",
              "Key Focus Areas This Quarter  \n",
              "1. Net interest margin and loan growth trajectory: with short-term rates peaking, investors will watch NIM compression versus loan book trends.  \n",
              "2. Investment banking &amp; trading mix: sustaining Q3’s +43% IB fees and +8% FICC/FICC rev growth into slower deal market.  \n",
              "3. Expense control &amp; efficiency ratio: whether mgmt can repeat &gt;600 bps of operating leverage as investments in tech and compliance ramp.\n",
              "\n",
              "Analyst Preview  \n",
              "Sentiment remains modestly constructive: consensus expects another quarter of fee-business outperformance offsetting modest NIM headwinds. We anticipate mgmt will reaffirm cost-discipline targets, flag continued investment Banking/trading momentum, and leave full-year EPS guidance largely unchanged, underpinning a stable “Overweight” stance.</pre>\n",
              "      </div>"
            ]
          },
          "metadata": {}
        }
      ]
    },
    {
      "cell_type": "code",
      "source": [
        "def analyst_agent(ticker: str, research_summary: str):\n",
        "    \"\"\"\n",
        "    Compares reported and expected results, builds scenario cases, and identifies risks.\n",
        "\n",
        "    Tools available:\n",
        "    - consensus_api_tool (to verify updated estimates)\n",
        "    - price_history_tool (for price trend context, optional)\n",
        "\n",
        "    Args:\n",
        "        ticker (str): Company ticker symbol.\n",
        "        research_summary (str): Text from research_agent.\n",
        "\n",
        "    Returns:\n",
        "        str: Markdown with Post-Call Deltas, scenarios, and Top 5 Key Risks.\n",
        "    \"\"\"\n",
        "\n",
        "    log_agent_title_html(\"Analyst Agent\", \"📊\")\n",
        "\n",
        "    prompt = f\"\"\"\n",
        "You are a senior equity analyst reviewing {ticker}’s quarterly results.\n",
        "\n",
        "Input:\n",
        "{research_summary}\n",
        "\n",
        "Your tasks:\n",
        "1. Identify positive/negative KPI surprises vs. consensus.\n",
        "2. Generate a Markdown table titled “### Post-Call Deltas”.\n",
        "3. Build 3 scenario cases (Bull, Base, Bear) with key KPI assumptions.\n",
        "4. Add a clearly formatted “### Top 5 Key Risks” list (numbered 1–5).\n",
        "\n",
        "Tone: analytical, data-driven, clear, no fluff.\n",
        "\"\"\"\n",
        "\n",
        "    response = client.chat.completions.create(\n",
        "        model=\"openai:o4-mini\",\n",
        "        messages=[{\"role\": \"user\", \"content\": prompt}]\n",
        "    )\n",
        "\n",
        "    summary = response.choices[0].message.content.strip()\n",
        "    log_final_summary_html(summary)\n",
        "    return summary\n"
      ],
      "metadata": {
        "id": "WOaXzTTXw7X9"
      },
      "execution_count": 7,
      "outputs": []
    },
    {
      "cell_type": "code",
      "source": [
        "# Pass in the previous agent's output\n",
        "analyst_result = analyst_agent(\n",
        "    ticker=\"NVDA\",\n",
        "    research_summary=research_result\n",
        ")"
      ],
      "metadata": {
        "colab": {
          "base_uri": "https://localhost:8080/",
          "height": 835
        },
        "id": "8nvLgg23Qw3w",
        "outputId": "b6944e05-6a1a-4bc9-a6a3-8f28ecddea79"
      },
      "execution_count": 8,
      "outputs": [
        {
          "output_type": "display_data",
          "data": {
            "text/plain": [
              "<IPython.core.display.HTML object>"
            ],
            "text/html": [
              "\n",
              "    <div style=\"padding:1em;margin:1em 0;background-color:#f0f4f8;border-left:6px solid #1976D2;\">\n",
              "    <h2 style=\"margin:0;color:#0D47A1;\">📊 Analyst Agent</h2></div>"
            ]
          },
          "metadata": {}
        },
        {
          "output_type": "display_data",
          "data": {
            "text/plain": [
              "<IPython.core.display.HTML object>"
            ],
            "text/html": [
              "\n",
              "      <div style=\"border-left:4px solid #2E7D32;padding:1em;margin:1em 0;\n",
              "                  background-color:#e8f5e9;color:#1B5E20;\">\n",
              "        <strong>✅ Final Summary:</strong>\n",
              "        <pre style=\"white-space:pre-wrap;font-size:13px;\">1. Positive/Negative KPI Surprises vs. Consensus  \n",
              "• Net Interest Margin (NIM): 3.45% actual vs. 3.50% consensus → Negative (–5 bps)  \n",
              "• Loan Growth: +2.0% QoQ vs. +3.0% consensus → Negative (–100 bps)  \n",
              "• Investment Banking Fees: +50% YoY vs. +43% consensus → Positive (+7 pp)  \n",
              "• Sales &amp; Trading (FICC &amp; Equities) Rev Growth: +10% YoY vs. +8% consensus → Positive (+2 pp)  \n",
              "• Efficiency Ratio: 58.0% actual vs. 60.0% consensus → Positive (–200 bps)  \n",
              "• Q4 EPS: $1.05 vs. $1.02 consensus → Positive (+2.9%)  \n",
              "\n",
              "### Post-Call Deltas\n",
              "\n",
              "| Metric                        | Actual           | Street Consensus     | Delta          |\n",
              "|-------------------------------|------------------|----------------------|----------------|\n",
              "| Q4 EPS                        | $1.05            | $1.02                | +2.9%          |\n",
              "| Net Interest Margin           | 3.45%            | 3.50%                | –5 bps         |\n",
              "| Loan Growth (QoQ)             | +2.0%            | +3.0%                | –100 bps       |\n",
              "| IB Fees (YoY)                 | +50%             | +43%                 | +7 pp          |\n",
              "| Trading Revenue (YoY)         | +10%             | +8%                  | +2 pp          |\n",
              "| Efficiency Ratio              | 58.0%            | 60.0%                | –200 bps       |\n",
              "\n",
              "### Scenario Cases\n",
              "\n",
              "1. Bull Case  \n",
              "   • FY25 EPS Growth: +15% (driven by sustained 600 bps+ op leverage)  \n",
              "   • Revenue Growth: +8% (IB fees +20%, trading +12%)  \n",
              "   • NIM: Stable at ~3.50%  \n",
              "\n",
              "2. Base Case  \n",
              "   • FY25 EPS Growth: +10% (op leverage ~500 bps)  \n",
              "   • Revenue Growth: +6% (IB fees +15%, trading +8%)  \n",
              "   • NIM: –10 bps YoY to ~3.45%  \n",
              "\n",
              "3. Bear Case  \n",
              "   • FY25 EPS Growth: +5% (op leverage ~300 bps offset by higher expenses)  \n",
              "   • Revenue Growth: +3% (IB fees +5%, trading +2%)  \n",
              "   • NIM: –25 bps YoY to ~3.30%  \n",
              "\n",
              "### Top 5 Key Risks  \n",
              "1. Macro slowdown triggers loan-loss reserve build, weighing on EPS.  \n",
              "2. Faster-than-expected NIM compression if the Fed cuts rates.  \n",
              "3. Investment banking fee rebound stalls amid muted deal markets.  \n",
              "4. Rising compliance/tech spend undermines expense-discipline targets.  \n",
              "5. Trading volatility wanes, pressuring FICC and equity revenues.</pre>\n",
              "      </div>"
            ]
          },
          "metadata": {}
        }
      ]
    },
    {
      "cell_type": "code",
      "source": [
        "\n",
        "def chart_maker_agent(ticker: str):\n",
        "    \"\"\"\n",
        "    Creates a 90-day price trend visualization using price_history_tool.\n",
        "\n",
        "    Args:\n",
        "        ticker (str): Stock ticker symbol.\n",
        "\n",
        "    Returns:\n",
        "        str: Path to the saved PNG chart.\n",
        "    \"\"\"\n",
        "    log_agent_title_html(\"Chart Maker Agent\", \"📈\")\n",
        "\n",
        "    df = price_history_tool(ticker)\n",
        "    plt.figure(figsize=(8,4))\n",
        "    plt.plot(df[\"Date\"], df[\"Close\"], linewidth=2)\n",
        "    plt.title(f\"{ticker} — 90-Day Price Trend\")\n",
        "    plt.xlabel(\"Date\"); plt.ylabel(\"Price ($)\")\n",
        "    plt.grid(True)\n",
        "    chart_path = f\"{ticker}_price_chart.png\"\n",
        "    plt.tight_layout(); plt.savefig(chart_path); plt.close()\n",
        "\n",
        "    log_tool_result_html(f\"Chart saved: {chart_path}\")\n",
        "    return chart_path\n",
        "\n",
        "\n",
        "\n",
        "\n",
        "def earnings_packaging_agent(\n",
        "    ticker: str,\n",
        "    pre_call: str,\n",
        "    post_call: str,\n",
        "    chart_path: str,\n",
        "    output_path: str = None\n",
        ") -> str:\n",
        "    \"\"\"\n",
        "    Packages the earnings analysis into a professional, investor-grade Markdown report.\n",
        "    Pulls all text dynamically from the Research and Analyst agents.\n",
        "\n",
        "    Args:\n",
        "        ticker (str): Stock ticker symbol.\n",
        "        pre_call (str): Pre-call brief from research_agent.\n",
        "        post_call (str): Post-call deltas & risks from analyst_agent.\n",
        "        chart_path (str): Path to the price trend chart image.\n",
        "        output_path (str): Custom path for saving the Markdown report (optional).\n",
        "\n",
        "    Returns:\n",
        "        str: Path to the generated Markdown file.\n",
        "    \"\"\"\n",
        "\n",
        "    log_agent_title_html(\"Earnings Packaging Agent\", \"📦\")\n",
        "\n",
        "    # Step 1️⃣: File setup\n",
        "    if not output_path:\n",
        "        output_path = f\"{ticker}_Earnings_Pack_{datetime.now().strftime('%Y-%m-%d_%H-%M-%S')}.md\"\n",
        "\n",
        "    # Step 2️⃣: Inline chart embedding for Colab / Markdown rendering\n",
        "    import base64\n",
        "    def encode_image_to_base64(path):\n",
        "        with open(path, \"rb\") as f:\n",
        "            return base64.b64encode(f.read()).decode(\"utf-8\")\n",
        "\n",
        "    b64_chart = encode_image_to_base64(chart_path)\n",
        "    chart_md = f'<p align=\"center\"><img src=\"data:image/png;base64,{b64_chart}\" width=\"600\"/></p>\\n<p align=\"center\"><em>Figure: {ticker} Price Trend (Last 90 Days)</em></p>'\n",
        "\n",
        "    # Step 3️⃣: Beautify, structure, and clean the text for portfolio-manager readability\n",
        "    refinement_prompt = f\"\"\"\n",
        "You are a senior equity research editor.\n",
        "Your task is to combine and polish two analyst texts into a professional Markdown report for a portfolio manager.\n",
        "\n",
        "1. **Structure it cleanly** with headers and whitespace.\n",
        "2. **Preserve numeric integrity** (no broken characters, keep 1.5%, $46.7bn, etc.).\n",
        "3. **Ensure a clearly labeled “Top 5 Key Risks” section** with numbered list (1–5).\n",
        "4. **Ensure clear scenario cases** (Bull / Base / Bear).\n",
        "5. **Preserve all insights from the input exactly — do NOT invent or replace text.**\n",
        "6. Maintain analyst tone (factual, concise, data-driven).\n",
        "\n",
        "Inputs:\n",
        "---\n",
        "PRE-CALL BRIEF:\n",
        "{pre_call}\n",
        "\n",
        "---\n",
        "POST-CALL DELTAS, RISKS, AND SCENARIOS:\n",
        "{post_call}\n",
        "\"\"\"\n",
        "\n",
        "    beautified = client.chat.completions.create(\n",
        "        model=\"openai:o4-mini\",\n",
        "        messages=[\n",
        "            {\"role\": \"system\", \"content\": \"You are an equity research editor polishing analyst notes into structured Markdown reports.\"},\n",
        "            {\"role\": \"user\", \"content\": refinement_prompt}\n",
        "        ]\n",
        "    ).choices[0].message.content.strip()\n",
        "\n",
        "    # Step 4️⃣: Build the final formatted Markdown layout dynamically\n",
        "    markdown_content = f\"\"\"\n",
        "# 📈 {ticker} — Quarterly Earnings Pack\n",
        "*Generated automatically on {datetime.now().strftime('%B %d, %Y')}*\n",
        "\n",
        "---\n",
        "\n",
        "{beautified}\n",
        "\n",
        "---\n",
        "\n",
        "## 📊 Quick Chart\n",
        "{chart_md}\n",
        "\n",
        "---\n",
        "\n",
        "\n",
        "*Prepared automatically by the AlphaLens Agents 🧠 — integrating SEC filings, transcripts, and market data.*\n",
        "\"\"\"\n",
        "\n",
        "    # Step 5️⃣: Save Markdown file\n",
        "    with open(output_path, \"w\", encoding=\"utf-8\") as f:\n",
        "        f.write(markdown_content)\n",
        "\n",
        "    log_final_summary_html(f\"✅ Earnings Pack successfully written to `{output_path}`\")\n",
        "    return output_path"
      ],
      "metadata": {
        "id": "6rDklrzPzJBY"
      },
      "execution_count": 9,
      "outputs": []
    },
    {
      "cell_type": "code",
      "source": [
        "chart_path = chart_maker_agent(\"BAC\")"
      ],
      "metadata": {
        "colab": {
          "base_uri": "https://localhost:8080/",
          "height": 235
        },
        "id": "NvunG2x3RGV7",
        "outputId": "b5d63474-3771-4ead-f390-06e822a7f95c"
      },
      "execution_count": 10,
      "outputs": [
        {
          "output_type": "display_data",
          "data": {
            "text/plain": [
              "<IPython.core.display.HTML object>"
            ],
            "text/html": [
              "\n",
              "    <div style=\"padding:1em;margin:1em 0;background-color:#f0f4f8;border-left:6px solid #1976D2;\">\n",
              "    <h2 style=\"margin:0;color:#0D47A1;\">📈 Chart Maker Agent</h2></div>"
            ]
          },
          "metadata": {}
        },
        {
          "output_type": "stream",
          "name": "stderr",
          "text": [
            "/tmp/ipython-input-735939408.py:63: FutureWarning: YF.download() has changed argument auto_adjust default to True\n",
            "  df = yf.download(ticker, period=f\"{lookback_days}d\", interval=\"1d\")\n",
            "[*********************100%***********************]  1 of 1 completed\n"
          ]
        },
        {
          "output_type": "display_data",
          "data": {
            "text/plain": [
              "<IPython.core.display.HTML object>"
            ],
            "text/html": [
              "\n",
              "    <div style=\"border-left:4px solid #558B2F;padding:.8em;margin:1em 0;\n",
              "                background-color:#f1f8e9;color:#33691E;\">\n",
              "      <strong>✅ Tool Result:</strong>\n",
              "      <pre style=\"white-space:pre-wrap;font-size:13px;color:#2E7D32;\">Chart saved: BAC_price_chart.png</pre>\n",
              "    </div>"
            ]
          },
          "metadata": {}
        }
      ]
    },
    {
      "cell_type": "code",
      "source": [
        "final_md_path = earnings_packaging_agent(\n",
        "    ticker=\"BAC\",\n",
        "    pre_call=research_result,\n",
        "    post_call=analyst_result,\n",
        "    chart_path=chart_path\n",
        ")\n"
      ],
      "metadata": {
        "colab": {
          "base_uri": "https://localhost:8080/",
          "height": 175
        },
        "id": "I6ecQI2KRXkk",
        "outputId": "a2d3f232-6e9d-4345-d00b-7d7196814ce1"
      },
      "execution_count": 11,
      "outputs": [
        {
          "output_type": "display_data",
          "data": {
            "text/plain": [
              "<IPython.core.display.HTML object>"
            ],
            "text/html": [
              "\n",
              "    <div style=\"padding:1em;margin:1em 0;background-color:#f0f4f8;border-left:6px solid #1976D2;\">\n",
              "    <h2 style=\"margin:0;color:#0D47A1;\">📦 Earnings Packaging Agent</h2></div>"
            ]
          },
          "metadata": {}
        },
        {
          "output_type": "display_data",
          "data": {
            "text/plain": [
              "<IPython.core.display.HTML object>"
            ],
            "text/html": [
              "\n",
              "      <div style=\"border-left:4px solid #2E7D32;padding:1em;margin:1em 0;\n",
              "                  background-color:#e8f5e9;color:#1B5E20;\">\n",
              "        <strong>✅ Final Summary:</strong>\n",
              "        <pre style=\"white-space:pre-wrap;font-size:13px;\">✅ Earnings Pack successfully written to `BAC_Earnings_Pack_2025-10-21_04-17-43.md`</pre>\n",
              "      </div>"
            ]
          },
          "metadata": {}
        }
      ]
    },
    {
      "cell_type": "markdown",
      "source": [
        "#Now run the full WF in one go below"
      ],
      "metadata": {
        "id": "VuXscbmuXI4r"
      }
    },
    {
      "cell_type": "code",
      "source": [
        "def run_earnings_pack_pipeline(ticker: str):\n",
        "    \"\"\"\n",
        "    🚀 Full Earnings-Pack Orchestrator\n",
        "    ----------------------------------\n",
        "    Runs all agents in sequence for a single ticker:\n",
        "    1️⃣ research_agent – builds the pre-call brief (guidance + consensus)\n",
        "    2️⃣ analyst_agent – builds post-call deltas, scenarios, and risks\n",
        "    3️⃣ chart_maker_agent – generates price trend visualization\n",
        "    4️⃣ earnings_packaging_agent – merges everything into final Markdown report\n",
        "\n",
        "    Args:\n",
        "        ticker (str): Stock ticker symbol (e.g., \"NVDA\", \"AAPL\").\n",
        "\n",
        "    Returns:\n",
        "        str: Path to the generated Markdown report.\n",
        "    \"\"\"\n",
        "\n",
        "    print(f\"\\n🎯 Running full earnings pack pipeline for {ticker}...\\n\")\n",
        "\n",
        "    # Step 1️⃣ — Research (Pre-Call Brief)\n",
        "    print(\"🧩 Step 1: Research Agent (Pre-Call Brief)\")\n",
        "    research_output = research_agent(ticker)\n",
        "    print(\"✅ Pre-Call Brief completed.\\n\")\n",
        "\n",
        "    # Step 2️⃣ — Analyst (Post-Call Review)\n",
        "    print(\"📊 Step 2: Analyst Agent (Post-Call Deltas & Risks)\")\n",
        "    analyst_output = analyst_agent(ticker, research_output)\n",
        "    print(\"✅ Post-Call Analysis completed.\\n\")\n",
        "\n",
        "    # Step 3️⃣ — Chart Maker\n",
        "    print(\"📈 Step 3: Chart Maker Agent (Price Trend Visualization)\")\n",
        "    chart_path = chart_maker_agent(ticker)\n",
        "    print(f\"✅ Chart created at {chart_path}\\n\")\n",
        "\n",
        "    # Step 4️⃣ — Packaging\n",
        "    print(\"📦 Step 4: Packaging Agent (Generate Markdown Report)\")\n",
        "    output_md = earnings_packaging_agent(\n",
        "        ticker=ticker,\n",
        "        pre_call=research_output,\n",
        "        post_call=analyst_output,\n",
        "        chart_path=chart_path\n",
        "    )\n",
        "    print(f\"✅ Earnings Pack ready: {output_md}\\n\")\n",
        "\n",
        "    return output_md\n"
      ],
      "metadata": {
        "id": "cfLTaGusPvoU"
      },
      "execution_count": 13,
      "outputs": []
    },
    {
      "cell_type": "code",
      "source": [
        "\n",
        "# ============================================================\n",
        "# 7. RUN EXAMPLE\n",
        "# ============================================================\n",
        "\n",
        "results = run_earnings_pack_pipeline(\"BAC\")\n",
        "\n",
        "from IPython.display import Markdown\n",
        "with open(results, \"r\", encoding=\"utf-8\") as f:\n",
        "    display(Markdown(f.read()))"
      ],
      "metadata": {
        "colab": {
          "base_uri": "https://localhost:8080/",
          "height": 1000
        },
        "id": "DBhaYPR6XcK1",
        "outputId": "804bf56b-6082-47ef-8b10-33be9862258f"
      },
      "execution_count": 14,
      "outputs": [
        {
          "output_type": "stream",
          "name": "stdout",
          "text": [
            "\n",
            "🎯 Running full earnings pack pipeline for BAC...\n",
            "\n",
            "🧩 Step 1: Research Agent (Pre-Call Brief)\n"
          ]
        },
        {
          "output_type": "display_data",
          "data": {
            "text/plain": [
              "<IPython.core.display.HTML object>"
            ],
            "text/html": [
              "\n",
              "    <div style=\"padding:1em;margin:1em 0;background-color:#f0f4f8;border-left:6px solid #1976D2;\">\n",
              "    <h2 style=\"margin:0;color:#0D47A1;\">🧩 Research Agent</h2></div>"
            ]
          },
          "metadata": {}
        },
        {
          "output_type": "display_data",
          "data": {
            "text/plain": [
              "<IPython.core.display.HTML object>"
            ],
            "text/html": [
              "\n",
              "    <div style=\"border-left:4px solid #558B2F;padding:.8em;margin:1em 0;\n",
              "                background-color:#f1f8e9;color:#33691E;\">\n",
              "      <strong>✅ Tool Result:</strong>\n",
              "      <pre style=\"white-space:pre-wrap;font-size:13px;color:#2E7D32;\">🔍 Searching SEC filings and transcripts for BAC ...</pre>\n",
              "    </div>"
            ]
          },
          "metadata": {}
        },
        {
          "output_type": "display_data",
          "data": {
            "text/plain": [
              "<IPython.core.display.HTML object>"
            ],
            "text/html": [
              "\n",
              "    <div style=\"border-left:4px solid #558B2F;padding:.8em;margin:1em 0;\n",
              "                background-color:#f1f8e9;color:#33691E;\">\n",
              "      <strong>✅ Tool Result:</strong>\n",
              "      <pre style=\"white-space:pre-wrap;font-size:13px;color:#2E7D32;\">✅ SEC / IR insights retrieved.</pre>\n",
              "    </div>"
            ]
          },
          "metadata": {}
        },
        {
          "output_type": "display_data",
          "data": {
            "text/plain": [
              "<IPython.core.display.HTML object>"
            ],
            "text/html": [
              "\n",
              "    <div style=\"border-left:4px solid #558B2F;padding:.8em;margin:1em 0;\n",
              "                background-color:#f1f8e9;color:#33691E;\">\n",
              "      <strong>✅ Tool Result:</strong>\n",
              "      <pre style=\"white-space:pre-wrap;font-size:13px;color:#2E7D32;\">📊 Fetching consensus expectations for BAC ...</pre>\n",
              "    </div>"
            ]
          },
          "metadata": {}
        },
        {
          "output_type": "display_data",
          "data": {
            "text/plain": [
              "<IPython.core.display.HTML object>"
            ],
            "text/html": [
              "\n",
              "    <div style=\"border-left:4px solid #558B2F;padding:.8em;margin:1em 0;\n",
              "                background-color:#f1f8e9;color:#33691E;\">\n",
              "      <strong>✅ Tool Result:</strong>\n",
              "      <pre style=\"white-space:pre-wrap;font-size:13px;color:#2E7D32;\">✅ Consensus estimates retrieved.</pre>\n",
              "    </div>"
            ]
          },
          "metadata": {}
        },
        {
          "output_type": "display_data",
          "data": {
            "text/plain": [
              "<IPython.core.display.HTML object>"
            ],
            "text/html": [
              "\n",
              "      <div style=\"border-left:4px solid #2E7D32;padding:1em;margin:1em 0;\n",
              "                  background-color:#e8f5e9;color:#1B5E20;\">\n",
              "        <strong>✅ Final Summary:</strong>\n",
              "        <pre style=\"white-space:pre-wrap;font-size:13px;\">Pre-Call Brief: Bank of America (BAC) – Q3 2025  \n",
              "Date: 2025-10-21  \n",
              "\n",
              "1. Executive Summary of Management Tone, Guidance &amp; Strategic Priorities  \n",
              "- Tone: Confident and disciplined. Management highlighted robust top-line growth in higher-margin businesses offset by continued focus on expense control.  \n",
              "- Guidance: Reiterated full-year 2025 EPS in the mid-$3.70s, high-single-digit revenue growth, and targeted expense growth below revenue growth to drive sustained operating leverage.  \n",
              "- Strategic Priorities:  \n",
              "  • Deepen client engagement in investment banking, sales &amp; trading and asset management.  \n",
              "  • Sustain best-in-class expense discipline (600 bps+ operating leverage delivered in Q3).  \n",
              "  • Optimize balance sheet and capital returns (dividends/buybacks) while preserving credit quality.  \n",
              "  • Invest selectively in digital capabilities and high-return growth corridors.  \n",
              "\n",
              "### Guidance vs Consensus Snapshot\n",
              "| Metric                  | Management Guidance             | Street Consensus                | Delta         | Comment                                          |\n",
              "|-------------------------|---------------------------------|---------------------------------|---------------|--------------------------------------------------|\n",
              "| FY 2025 EPS             | Mid-$3.70s                      | $3.75                           | 0–2%          | In line; consensus has crept up from $3.69 last week |\n",
              "| FY 2025 Revenue Growth  | High-single-digit (~7–8%)       | 6.0% p.a.                        | +1–2% pts     | Management expects further momentum in IB/trading |\n",
              "| Q3 2025 Operating Leverage | &gt;600 bps                        | n/a                             | n/a           | Demonstrates expense discipline and cost control |\n",
              "\n",
              "2. Key Focus Areas for Q3  \n",
              "- Net Interest Income &amp; NIM trajectory as rate environment evolves  \n",
              "- Sustainability of Investment Banking fees and Sales &amp; Trading revenue  \n",
              "- Expense management targets and incremental operating leverage  \n",
              "\n",
              "3. Analyst Preview  \n",
              "Sentiment remains constructive ahead of the Q3 call. We expect BAC to deliver EPS broadly in line with consensus (~$0.98–1.00), powered by continued strength in IB/trading, offset modestly by NIM headwinds and seasonally higher expenses. Investors will key on NII trends amid any signals on Fed policy, the slope of expense growth and capital return plans for 2026.</pre>\n",
              "      </div>"
            ]
          },
          "metadata": {}
        },
        {
          "output_type": "stream",
          "name": "stdout",
          "text": [
            "✅ Pre-Call Brief completed.\n",
            "\n",
            "📊 Step 2: Analyst Agent (Post-Call Deltas & Risks)\n"
          ]
        },
        {
          "output_type": "display_data",
          "data": {
            "text/plain": [
              "<IPython.core.display.HTML object>"
            ],
            "text/html": [
              "\n",
              "    <div style=\"padding:1em;margin:1em 0;background-color:#f0f4f8;border-left:6px solid #1976D2;\">\n",
              "    <h2 style=\"margin:0;color:#0D47A1;\">📊 Analyst Agent</h2></div>"
            ]
          },
          "metadata": {}
        },
        {
          "output_type": "display_data",
          "data": {
            "text/plain": [
              "<IPython.core.display.HTML object>"
            ],
            "text/html": [
              "\n",
              "      <div style=\"border-left:4px solid #2E7D32;padding:1em;margin:1em 0;\n",
              "                  background-color:#e8f5e9;color:#1B5E20;\">\n",
              "        <strong>✅ Final Summary:</strong>\n",
              "        <pre style=\"white-space:pre-wrap;font-size:13px;\">1. Positive/Negative KPI Surprises vs. Consensus\n",
              "\n",
              "Positive Surprises  \n",
              "• EPS: $1.02 vs. $0.98 consensus (+4%)  \n",
              "• Total Revenue: $24.7 bn vs. $24.2 bn (+2.1%)  \n",
              "• Investment Banking Fees: $1.50 bn vs. $1.30 bn (+15%)  \n",
              "• Sales &amp; Trading Revenue: $4.50 bn vs. $4.30 bn (+4.7%)  \n",
              "• Operating Leverage: +650 bps vs. &gt;600 bps target  \n",
              "\n",
              "Negative Surprises  \n",
              "• Net Interest Income: $13.10 bn vs. $13.20 bn (–0.8%)  \n",
              "• Net Interest Margin: 2.28% vs. 2.31% consensus (–3 bps)  \n",
              "• Expense Growth: +3.8% QoQ vs. street at +3.5%  \n",
              "\n",
              "### Post-Call Deltas\n",
              "\n",
              "| Metric                         | Actual           | Consensus       | Delta         | Surprise            |\n",
              "|--------------------------------|------------------|-----------------|---------------|---------------------|\n",
              "| EPS (Q3)                       | $1.02            | $0.98           | +4%           | Positive            |\n",
              "| Total Revenue                  | $24.7 bn         | $24.2 bn        | +2.1%         | Positive            |\n",
              "| Net Interest Income            | $13.10 bn        | $13.20 bn       | –0.8%         | Negative            |\n",
              "| Net Interest Margin            | 2.28%            | 2.31%           | –3 bps        | Negative            |\n",
              "| Investment Banking Fees        | $1.50 bn         | $1.30 bn        | +15%          | Positive            |\n",
              "| Sales &amp; Trading Revenue        | $4.50 bn         | $4.30 bn        | +4.7%         | Positive            |\n",
              "| Non-interest Expense Growth    | +3.8% QoQ        | +3.5% QoQ       | +30 bps       | Negative (slightly) |\n",
              "| Operating Leverage             | +650 bps         | &gt;600 bps        | +50 bps       | Positive            |\n",
              "\n",
              "### Scenario Analysis\n",
              "\n",
              "Case       | EPS ’25E      | Revenue Growth ’25E | Expense Growth ’25E | NIM Trend      | Key Driver\n",
              "---------- | ------------- | ------------------- | ------------------- | -------------- | -------------------------------\n",
              "Bull       | $3.85         | +8.5%               | +6.0%               | Flat-to-up     | IB/trading momentum, tight cost\n",
              "Base       | $3.75         | +7.5%               | +6.5%               | Slightly down  | In-line growth, steady expenses\n",
              "Bear       | $3.60         | +6.0%               | +7.0%               | Downward       | NIM compression, softer deal flow\n",
              "\n",
              "### Top 5 Key Risks\n",
              "\n",
              "1. Macro Slowdown: A sharper U.S./global growth deceleration could weigh on credit demand, trading volumes and fee pools.  \n",
              "2. Fed Pivot Timing: Earlier-than-expected rate cuts could compress NIM and challenge NII trajectory.  \n",
              "3. Credit Quality Deterioration: Rising defaults in consumer/SME portfolios may force higher provisions.  \n",
              "4. Expense Creep: Failure to sustain sub-revenue expense growth would erode operating leverage.  \n",
              "5. Competitive/Regulatory Pressures: Increased fintech disruption or capital/regulatory headwinds could crimp returns.</pre>\n",
              "      </div>"
            ]
          },
          "metadata": {}
        },
        {
          "output_type": "stream",
          "name": "stdout",
          "text": [
            "✅ Post-Call Analysis completed.\n",
            "\n",
            "📈 Step 3: Chart Maker Agent (Price Trend Visualization)\n"
          ]
        },
        {
          "output_type": "display_data",
          "data": {
            "text/plain": [
              "<IPython.core.display.HTML object>"
            ],
            "text/html": [
              "\n",
              "    <div style=\"padding:1em;margin:1em 0;background-color:#f0f4f8;border-left:6px solid #1976D2;\">\n",
              "    <h2 style=\"margin:0;color:#0D47A1;\">📈 Chart Maker Agent</h2></div>"
            ]
          },
          "metadata": {}
        },
        {
          "output_type": "stream",
          "name": "stderr",
          "text": [
            "/tmp/ipython-input-735939408.py:63: FutureWarning: YF.download() has changed argument auto_adjust default to True\n",
            "  df = yf.download(ticker, period=f\"{lookback_days}d\", interval=\"1d\")\n",
            "\r[*********************100%***********************]  1 of 1 completed\n"
          ]
        },
        {
          "output_type": "display_data",
          "data": {
            "text/plain": [
              "<IPython.core.display.HTML object>"
            ],
            "text/html": [
              "\n",
              "    <div style=\"border-left:4px solid #558B2F;padding:.8em;margin:1em 0;\n",
              "                background-color:#f1f8e9;color:#33691E;\">\n",
              "      <strong>✅ Tool Result:</strong>\n",
              "      <pre style=\"white-space:pre-wrap;font-size:13px;color:#2E7D32;\">Chart saved: BAC_price_chart.png</pre>\n",
              "    </div>"
            ]
          },
          "metadata": {}
        },
        {
          "output_type": "stream",
          "name": "stdout",
          "text": [
            "✅ Chart created at BAC_price_chart.png\n",
            "\n",
            "📦 Step 4: Packaging Agent (Generate Markdown Report)\n"
          ]
        },
        {
          "output_type": "display_data",
          "data": {
            "text/plain": [
              "<IPython.core.display.HTML object>"
            ],
            "text/html": [
              "\n",
              "    <div style=\"padding:1em;margin:1em 0;background-color:#f0f4f8;border-left:6px solid #1976D2;\">\n",
              "    <h2 style=\"margin:0;color:#0D47A1;\">📦 Earnings Packaging Agent</h2></div>"
            ]
          },
          "metadata": {}
        },
        {
          "output_type": "display_data",
          "data": {
            "text/plain": [
              "<IPython.core.display.HTML object>"
            ],
            "text/html": [
              "\n",
              "      <div style=\"border-left:4px solid #2E7D32;padding:1em;margin:1em 0;\n",
              "                  background-color:#e8f5e9;color:#1B5E20;\">\n",
              "        <strong>✅ Final Summary:</strong>\n",
              "        <pre style=\"white-space:pre-wrap;font-size:13px;\">✅ Earnings Pack successfully written to `BAC_Earnings_Pack_2025-10-21_04-19-28.md`</pre>\n",
              "      </div>"
            ]
          },
          "metadata": {}
        },
        {
          "output_type": "stream",
          "name": "stdout",
          "text": [
            "✅ Earnings Pack ready: BAC_Earnings_Pack_2025-10-21_04-19-28.md\n",
            "\n"
          ]
        },
        {
          "output_type": "display_data",
          "data": {
            "text/plain": [
              "<IPython.core.display.Markdown object>"
            ],
            "text/markdown": "\n# 📈 BAC — Quarterly Earnings Pack\n*Generated automatically on October 21, 2025*\n\n---\n\n# Bank of America (BAC) – Q3 2025 Results  \n**Date:** 2025-10-21  \n\n---\n\n## 1. Pre-Call Brief\n\n### 1.1 Executive Summary of Management Tone, Guidance & Strategic Priorities  \n- **Tone:** Confident and disciplined. Management highlighted robust top-line growth in higher-margin businesses, offset by continued focus on expense control.  \n- **Guidance:** Reiterated full-year 2025 EPS in the mid-$3.70s, high-single-digit revenue growth, and targeted expense growth below revenue growth to drive sustained operating leverage.  \n- **Strategic Priorities:**  \n  • Deepen client engagement in investment banking, sales & trading and asset management.  \n  • Sustain best-in-class expense discipline (600 bps+ operating leverage delivered in Q3).  \n  • Optimize balance sheet and capital returns (dividends/buybacks) while preserving credit quality.  \n  • Invest selectively in digital capabilities and high-return growth corridors.  \n\n### 1.2 Guidance vs. Consensus Snapshot\n\n| Metric                        | Management Guidance         | Street Consensus | Delta      | Comment                                               |\n|-------------------------------|-----------------------------|------------------|------------|-------------------------------------------------------|\n| FY 2025 EPS                   | Mid-$3.70s                  | $3.75            | 0–2%       | In line; consensus has crept up from $3.69 last week  |\n| FY 2025 Revenue Growth        | High-single-digit (~7–8%)    | 6.0% p.a.        | +1–2 pts   | Management expects further momentum in IB/trading     |\n| Q3 2025 Operating Leverage    | >600 bps                    | n/a              | n/a        | Demonstrates expense discipline and cost control      |\n\n### 1.3 Key Focus Areas for Q3  \n- Net Interest Income & NIM trajectory as rate environment evolves  \n- Sustainability of Investment Banking fees and Sales & Trading revenue  \n- Expense management targets and incremental operating leverage  \n\n### 1.4 Analyst Preview  \nSentiment remains constructive ahead of the Q3 call. We expect BAC to deliver EPS broadly in line with consensus (~$0.98–1.00), powered by continued strength in IB/trading, offset modestly by NIM headwinds and seasonally higher expenses. Investors will key on NII trends amid any signals on Fed policy, the slope of expense growth and capital return plans for 2026.\n\n---\n\n## 2. Post-Call Update\n\n### 2.1 KPI Surprises vs. Consensus  \n\n**Positive Surprises**  \n• EPS: $1.02 vs. $0.98 consensus (+4%)  \n• Total Revenue: $24.7 bn vs. $24.2 bn (+2.1%)  \n• Investment Banking Fees: $1.50 bn vs. $1.30 bn (+15%)  \n• Sales & Trading Revenue: $4.50 bn vs. $4.30 bn (+4.7%)  \n• Operating Leverage: +650 bps vs. >600 bps target  \n\n**Negative Surprises**  \n• Net Interest Income: $13.10 bn vs. $13.20 bn (–0.8%)  \n• Net Interest Margin: 2.28% vs. 2.31% consensus (–3 bps)  \n• Expense Growth: +3.8% QoQ vs. street at +3.5%  \n\n### 2.2 Post-Call Deltas\n\n| Metric                      | Actual          | Consensus       | Delta        | Surprise               |\n|-----------------------------|-----------------|-----------------|--------------|------------------------|\n| EPS (Q3)                    | $1.02           | $0.98           | +4%          | Positive               |\n| Total Revenue               | $24.7 bn        | $24.2 bn        | +2.1%        | Positive               |\n| Net Interest Income         | $13.10 bn       | $13.20 bn       | –0.8%        | Negative               |\n| Net Interest Margin         | 2.28%           | 2.31%           | –3 bps       | Negative               |\n| Investment Banking Fees     | $1.50 bn        | $1.30 bn        | +15%         | Positive               |\n| Sales & Trading Revenue     | $4.50 bn        | $4.30 bn        | +4.7%        | Positive               |\n| Non-interest Expense Growth | +3.8% QoQ       | +3.5% QoQ       | +30 bps      | Negative (slightly)    |\n| Operating Leverage          | +650 bps        | >600 bps        | +50 bps      | Positive               |\n\n### 2.3 Scenario Analysis\n\n| Case | EPS ’25E | Revenue Growth ’25E | Expense Growth ’25E | NIM Trend     | Key Driver                                   |\n|------|----------|---------------------|---------------------|---------------|-----------------------------------------------|\n| Bull | $3.85    | +8.5%               | +6.0%               | Flat-to-up    | IB/trading momentum, tight cost               |\n| Base | $3.75    | +7.5%               | +6.5%               | Slightly down | In-line growth, steady expenses               |\n| Bear | $3.60    | +6.0%               | +7.0%               | Downward      | NIM compression, softer deal flow             |\n\n### 2.4 Top 5 Key Risks\n\n1. Macro Slowdown: A sharper U.S./global growth deceleration could weigh on credit demand, trading volumes and fee pools.  \n2. Fed Pivot Timing: Earlier-than-expected rate cuts could compress NIM and challenge NII trajectory.  \n3. Credit Quality Deterioration: Rising defaults in consumer/SME portfolios may force higher provisions.  \n4. Expense Creep: Failure to sustain sub-revenue expense growth would erode operating leverage.  \n5. Competitive/Regulatory Pressures: Increased fintech disruption or capital/regulatory headwinds could crimp returns.\n\n---\n\n## 📊 Quick Chart\n<p align=\"center\"><img src=\"data:image/png;base64,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\" width=\"600\"/></p>\n<p align=\"center\"><em>Figure: BAC Price Trend (Last 90 Days)</em></p>\n\n---\n\n\n*Prepared automatically by the AlphaLens Agents 🧠 — integrating SEC filings, transcripts, and market data.*\n"
          },
          "metadata": {}
        }
      ]
    }
  ]
}