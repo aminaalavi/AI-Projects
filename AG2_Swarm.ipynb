{
  "nbformat": 4,
  "nbformat_minor": 0,
  "metadata": {
    "colab": {
      "provenance": [],
      "authorship_tag": "ABX9TyMlu1KiWDQSDWYVHQJ60XQ8",
      "include_colab_link": true
    },
    "kernelspec": {
      "name": "python3",
      "display_name": "Python 3"
    },
    "language_info": {
      "name": "python"
    }
  },
  "cells": [
    {
      "cell_type": "markdown",
      "metadata": {
        "id": "view-in-github",
        "colab_type": "text"
      },
      "source": [
        "<a href=\"https://colab.research.google.com/github/aminaalavi/AI-Projects/blob/main/AG2_Swarm.ipynb\" target=\"_parent\"><img src=\"https://colab.research.google.com/assets/colab-badge.svg\" alt=\"Open In Colab\"/></a>"
      ]
    },
    {
      "cell_type": "markdown",
      "source": [
        "# Building a Multi-Agent Investment Research Swarm with Autogen/AG2 Agents\n",
        "\n",
        "In this notebook, we explore how to create a swarm of intelligent agents that collaboratively analyze a stock using the AG2 (Autogen) framework.\n",
        "\n",
        "A **swarm** in the context of AG2 refers to a team of **conversable agents** that communicate and coordinate intelligently to perform tasks, similar to a team of human collaborators. Each agent is specialized, follows defined rules (policies), and can pass work between one another using well-orchestrated handoffs.\n",
        "\n",
        "AG2 makes this lightweight and modular, enabling you to build and manage swarms for various workflows.\n",
        "\n",
        "This swarm includes agents that:\n",
        "- Analyze financial data\n",
        "- Assess market sentiment\n",
        "- Perform valuations\n",
        "- Identify risk factors\n",
        "- Generate reports and visualizations\n",
        "\n",
        "It has been setup in Google Colab for everyone to follow easily.\n",
        "\n",
        "The functions in this notebook (e.g., analyze_financials, perform_valuation, detect_risks) are simplified examples meant to illustrate how each agent interacts with external data. In real world, these functions would be significantly more complex"
      ],
      "metadata": {
        "id": "4MwyKAyEAPVj"
      }
    },
    {
      "cell_type": "markdown",
      "source": [
        "### 1. Install and Import Libraries\n",
        "The following libraries are required to set up and run the AI agents. Ensure that all dependencies are installed before proceeding.\n",
        "\n",
        "- `ag2[openai]`: The AG2 (Autogen) framework for building conversational agents and swarms.\n",
        "- `yfinance`: A wrapper for Yahoo Finance used to fetch stock data and news."
      ],
      "metadata": {
        "id": "kup-oT4zAv4O"
      }
    },
    {
      "cell_type": "code",
      "execution_count": 1,
      "metadata": {
        "colab": {
          "base_uri": "https://localhost:8080/"
        },
        "id": "Qa1KkCI8hDvS",
        "outputId": "68c30de1-a764-449e-d052-d8858be3e79e"
      },
      "outputs": [
        {
          "output_type": "stream",
          "name": "stdout",
          "text": [
            "\u001b[2K   \u001b[90m━━━━━━━━━━━━━━━━━━━━━━━━━━━━━━━━━━━━━━━━\u001b[0m \u001b[32m730.4/730.4 kB\u001b[0m \u001b[31m11.9 MB/s\u001b[0m eta \u001b[36m0:00:00\u001b[0m\n",
            "\u001b[2K   \u001b[90m━━━━━━━━━━━━━━━━━━━━━━━━━━━━━━━━━━━━━━━━\u001b[0m \u001b[32m45.5/45.5 kB\u001b[0m \u001b[31m1.4 MB/s\u001b[0m eta \u001b[36m0:00:00\u001b[0m\n",
            "\u001b[2K   \u001b[90m━━━━━━━━━━━━━━━━━━━━━━━━━━━━━━━━━━━━━━━━\u001b[0m \u001b[32m147.8/147.8 kB\u001b[0m \u001b[31m6.7 MB/s\u001b[0m eta \u001b[36m0:00:00\u001b[0m\n",
            "\u001b[2K   \u001b[90m━━━━━━━━━━━━━━━━━━━━━━━━━━━━━━━━━━━━━━━━\u001b[0m \u001b[32m1.2/1.2 MB\u001b[0m \u001b[31m27.1 MB/s\u001b[0m eta \u001b[36m0:00:00\u001b[0m\n",
            "\u001b[?25hMounted at /content/drive\n"
          ]
        }
      ],
      "source": [
        "!pip install -U ag2[openai] -q\n",
        "!pip install yfinance -q # to get financial data\n",
        "import yfinance as yf\n",
        "import os\n",
        "import openai\n",
        "import json\n",
        "import autogen\n",
        "from google.colab import drive\n",
        "drive.mount('/content/drive')\n",
        "from google.colab import userdata\n",
        "\n"
      ]
    },
    {
      "cell_type": "markdown",
      "source": [
        "## Importing AG2 Swarm Utilities\n",
        "\n",
        "Here we import the core AG2/Autogen components that enable swarm functionality:\n",
        "- `ConversableAgent`: Defines an LLM powered agent.\n",
        "- `register_hand_off` & `OnCondition`: Allow agents to pass tasks between each other.\n",
        "- `initiate_swarm_chat`: Starts the multi-agent conversation with handoffs.\n"
      ],
      "metadata": {
        "id": "z1oux58aCJXa"
      }
    },
    {
      "cell_type": "code",
      "source": [
        "from autogen import (\n",
        "    config_list_from_json,\n",
        "    ConversableAgent,\n",
        "    OnCondition,\n",
        "    register_hand_off,\n",
        "    initiate_swarm_chat,\n",
        "    UserProxyAgent,\n",
        "    AfterWorkOption\n",
        ")"
      ],
      "metadata": {
        "id": "RVZSTaMNCIip"
      },
      "execution_count": 2,
      "outputs": []
    },
    {
      "cell_type": "markdown",
      "source": [
        "## Configuring OpenAI API Keys and Models\n",
        "\n",
        "This section sets up API access to OpenAI models, ensuring secure authentication and smooth interaction with OpenAI's services.\n",
        "\n",
        "#### API Key Configuration\n",
        "- The OpenAI API key must be stored in Google Colab Secrets Manager before running this notebook. Also make sure your notebook has access to the Google Secrets"
      ],
      "metadata": {
        "id": "nDheoADaCVcO"
      }
    },
    {
      "cell_type": "code",
      "source": [
        "# Configuring OpenAI API Keys and Models\n",
        "os.environ[\"OPENAI_API_KEY\"] = userdata.get('OPENAI_API_KEY')\n",
        "config_list = [\n",
        "    {\n",
        "        \"model\": \"gpt-4o-mini\",\n",
        "        \"api_key\": os.environ[\"OPENAI_API_KEY\"]\n",
        "        },\n",
        "    {\n",
        "        \"model\": \"gpt-4o\",\n",
        "        \"api_key\": os.environ[\"OPENAI_API_KEY\"]\n",
        "    }\n",
        "]\n",
        "\n",
        "# Save to file\n",
        "with open(\"/content/OAI_CONFIG_LIST.json\", \"w\") as f:\n",
        "    json.dump(config_list, f)"
      ],
      "metadata": {
        "id": "NA-BvfckiehQ"
      },
      "execution_count": 3,
      "outputs": []
    },
    {
      "cell_type": "markdown",
      "source": [
        "## Loading OpenAI Configuration from JSON\n",
        "\n",
        "This section loads the OpenAI API configuration from a JSON file and specifies the models to use ."
      ],
      "metadata": {
        "id": "0b-h7pwDCxS_"
      }
    },
    {
      "cell_type": "code",
      "source": [
        "# set config path\n",
        "config_path = \"/content/OAI_CONFIG_LIST.json\"\n",
        "config_list = autogen.config_list_from_json(\n",
        "    config_path, filter_dict={\"model\": [\"gpt-4o-mini\"]} #you can use any model of your choice. Make sure it is in the config file\n",
        ")\n",
        "os.environ[\"OAI_CONFIG_LIST\"] = \"/content/OAI_CONFIG_LIST.json\""
      ],
      "metadata": {
        "id": "IuqtJo6Tifea"
      },
      "execution_count": 4,
      "outputs": []
    },
    {
      "cell_type": "markdown",
      "source": [
        "## Configuring\n",
        "\n",
        "This section defines the **LLM configuration**\n",
        "\n",
        "*   config_list: config_list → Uses the pre-defined list of LLM configurations to select the appropriate model."
      ],
      "metadata": {
        "id": "OW3pIsJLEnSp"
      }
    },
    {
      "cell_type": "code",
      "source": [
        "# llm config\n",
        "llm_config = {\"cache_seed\": 42,  \"temperature\": 1, \"config_list\": config_list, \"timeout\": 120, \"tools\": [],}\n"
      ],
      "metadata": {
        "id": "8uquj3Jxip-9"
      },
      "execution_count": 5,
      "outputs": []
    },
    {
      "cell_type": "markdown",
      "source": [
        "### Function 1 - Analyzing Financials\n",
        "\n",
        "This function, `analyze_financials`, is called by the **Financials Agent** in the swarm.\n",
        "\n",
        "It uses the `yfinance` library to:\n",
        "- Create a `Ticker` object using the provided symbol (e.g., \"AAPL\")\n",
        "- Fetch financial details via `.info`\n"
      ],
      "metadata": {
        "id": "EUK7hwMtF9kJ"
      }
    },
    {
      "cell_type": "code",
      "source": [
        "\n",
        "def analyze_financials(ticker: str) -> str:\n",
        "    stock = yf.Ticker(ticker)\n",
        "    info = stock.info\n",
        "\n",
        "    try:\n",
        "        pe_ratio = info.get(\"trailingPE\", \"N/A\")\n",
        "        debt_to_equity = info.get(\"debtToEquity\", \"N/A\")\n",
        "        revenue_growth = info.get(\"revenueGrowth\", \"N/A\")\n",
        "        return (\n",
        "            f\"Financials for {ticker}:\\n\"\n",
        "            f\"• P/E Ratio: {pe_ratio}\\n\"\n",
        "            f\"• Debt/Equity: {debt_to_equity}\\n\"\n",
        "            f\"• Revenue Growth: {revenue_growth}\"\n",
        "        )\n",
        "    except Exception as e:\n",
        "        return f\"Failed to fetch financials: {str(e)}\"\n"
      ],
      "metadata": {
        "id": "1F8XzAwfquwH"
      },
      "execution_count": 6,
      "outputs": []
    },
    {
      "cell_type": "markdown",
      "source": [
        "### Function 2 : Assessing Market Sentiment\n",
        "\n",
        "This function, used by the **Sentiment Agent**, simulates what a human investor might do when scanning headlines.\n",
        "\n",
        "Here’s what it does:\n",
        "- Fetches recent news articles using Yahoo Finance’s `.news` feature.\n",
        "- Extracts the top 5 article titles.\n",
        "- Constructs a **prompt** for the LLM to interpret sentiment based on those headlines. This showcases how agents can blend structured scraping (headlines) with human-like interpretation (LLM insight).\n",
        "\n"
      ],
      "metadata": {
        "id": "7zAx5GH3GCnA"
      }
    },
    {
      "cell_type": "code",
      "source": [
        "def assess_market_sentiment(ticker: str) -> list:\n",
        "    stock = yf.Ticker(ticker)\n",
        "    news = stock.news\n",
        "\n",
        "    if not news:\n",
        "        return [f\"No recent news found for {ticker}.\"]\n",
        "\n",
        "    # Safely collect headlines with fallback if 'title' is missing\n",
        "    headlines = [article.get(\"title\", \"[No title available]\") for article in news[:5]]\n",
        "    return headlines\n",
        "\n"
      ],
      "metadata": {
        "id": "rqSXUaflq9rd"
      },
      "execution_count": 7,
      "outputs": []
    },
    {
      "cell_type": "markdown",
      "source": [
        "### Function 3: Performing Valuation\n",
        "\n",
        "This function is run by the **Valuation Agent** and provides a basic financial overview of whether a stock is fairly priced.\n"
      ],
      "metadata": {
        "id": "5mqqMbiXHD_9"
      }
    },
    {
      "cell_type": "code",
      "source": [
        "def perform_valuation(ticker: str) -> str:\n",
        "    stock = yf.Ticker(ticker)\n",
        "    info = stock.info\n",
        "    try:\n",
        "        current_price = info.get(\"currentPrice\", \"N/A\")\n",
        "        forward_pe = info.get(\"forwardPE\", \"N/A\")\n",
        "        price_to_book = info.get(\"priceToBook\", \"N/A\")\n",
        "        fair_value_estimate = \"Estimated using DCF and peer comparison (manual inputs may be needed).\"\n",
        "        return (\n",
        "            f\"Valuation for {ticker}:\\n\"\n",
        "            f\"• Current Price: {current_price}\\n\"\n",
        "            f\"• Forward P/E: {forward_pe}\\n\"\n",
        "            f\"• Price-to-Book Ratio: {price_to_book}\\n\"\n",
        "            f\"• {fair_value_estimate}\"\n",
        "        )\n",
        "    except Exception as e:\n",
        "        return f\"Failed to fetch valuation data for {ticker}: {str(e)}\"\n"
      ],
      "metadata": {
        "id": "Mwe9m-_ynNHD"
      },
      "execution_count": 8,
      "outputs": []
    },
    {
      "cell_type": "markdown",
      "source": [
        "### Function 4: Detecting Risks\n",
        "\n",
        "The **Risk Agent** uses this function to simulate a basic risk review of a company.\n"
      ],
      "metadata": {
        "id": "YXYSA_uMK1mL"
      }
    },
    {
      "cell_type": "code",
      "source": [
        "def detect_risks(ticker: str) -> str:\n",
        "    stock = yf.Ticker(ticker)\n",
        "    info = stock.info\n",
        "    try:\n",
        "        beta = info.get(\"beta\", \"N/A\")\n",
        "        sector = info.get(\"sector\", \"N/A\")\n",
        "        country = info.get(\"country\", \"N/A\")\n",
        "        earnings_date = info.get(\"earningsDate\", \"N/A\")\n",
        "        risk_notes = (\n",
        "            f\"• Sector: {sector}\\n\"\n",
        "            f\"• Country: {country}\\n\"\n",
        "            f\"• Beta (Volatility): {beta}\\n\"\n",
        "            f\"• Upcoming Earnings Date: {earnings_date}\\n\"\n",
        "            f\"• Potential Risks: Market fluctuations, competition, geopolitical factors, and upcoming earnings volatility.\"\n",
        "        )\n",
        "        return f\"Risk assessment for {ticker}:\\n{risk_notes}\"\n",
        "    except Exception as e:\n",
        "        return f\"Failed to fetch risk data for {ticker}: {str(e)}\""
      ],
      "metadata": {
        "id": "Z9ipUVdqnUep"
      },
      "execution_count": 9,
      "outputs": []
    },
    {
      "cell_type": "markdown",
      "source": [
        "### Function 5:  Generating a Summary Report\n",
        "\n",
        "This function is called by the **Summary Agent** at the end of the swarm workflow.\n",
        "\n",
        "It does not fetch new data .Instead, it **formats and compiles** insights that previous agents have generated:\n",
        "- Financials\n",
        "- Sentiment\n",
        "- Valuation\n",
        "- Risks\n"
      ],
      "metadata": {
        "id": "EeaPQkxJNPsH"
      }
    },
    {
      "cell_type": "code",
      "source": [
        "def generate_summary_report(ticker: str) -> str:\n",
        "    return (\n",
        "        f\"===== INVESTMENT SUMMARY: {ticker.upper()} =====\\n\"\n",
        "        f\"\\n[1] Financial Overview:\\n{{financials_summary}}\\n\"\n",
        "        f\"\\n[2] Market Sentiment:\\n{{sentiment_summary}}\\n\"\n",
        "        f\"\\n[3] Valuation Insights:\\n{{valuation_summary}}\\n\"\n",
        "        f\"\\n[4] Risk Factors:\\n{{risk_summary}}\\n\"\n",
        "        f\"\\n[5] Final Analyst Summary:\\nThis stock shows {{insert_LLManalysis}} based on current data.\\n\"\n",
        "        f\"=============================================\"\n",
        "    )\n"
      ],
      "metadata": {
        "id": "x9hx_1Snqx8P"
      },
      "execution_count": 10,
      "outputs": []
    },
    {
      "cell_type": "markdown",
      "source": [
        "### Plotting the Stock Price\n",
        "\n",
        "This function is used by the **Summary Agent** to add a visual element to the analysis.\n",
        "\n",
        "What it does:\n",
        "- Uses `yfinance` to download 6 months of daily stock prices.\n",
        "- Uses `matplotlib` to create a clean line chart of closing prices.\n",
        "- Saves the chart as a PNG image.\n",
        "- Displays the image **inline in the notebook** using `IPython.display`.\n",
        "\n",
        "Tip: This is where AG2 swarms can go beyond conversation and start generating rich content like charts and visual insights.\n"
      ],
      "metadata": {
        "id": "I51s5Q1JNZrp"
      }
    },
    {
      "cell_type": "code",
      "source": [
        "import yfinance as yf\n",
        "import matplotlib.pyplot as plt\n",
        "\n",
        "\n",
        "def plot_stock_price(ticker: str):\n",
        "    import IPython.display as display\n",
        "    data = yf.download(ticker, period=\"6mo\", interval=\"1d\")\n",
        "    data['Close'].plot(title=f\"{ticker.upper()} Stock Price (6M)\")\n",
        "    plt.xlabel(\"Date\")\n",
        "    plt.ylabel(\"Price (USD)\")\n",
        "    plt.grid(True)\n",
        "    plt.tight_layout()\n",
        "    file_path = f\"{ticker}_price.png\"\n",
        "    plt.savefig(file_path)\n",
        "    plt.close()\n",
        "    display.display(display.Image(filename=file_path))\n",
        "    return f\"Displayed stock price chart for {ticker}.\"f\"Saved stock price chart for {ticker} as {ticker}_price.png\""
      ],
      "metadata": {
        "id": "mMHLxyzArh9u"
      },
      "execution_count": 11,
      "outputs": []
    },
    {
      "cell_type": "markdown",
      "source": [
        "### Agent System Messages"
      ],
      "metadata": {
        "id": "wu5ydtq5Xb8r"
      }
    },
    {
      "cell_type": "code",
      "source": [
        "# ----------------------------\n",
        "# Agent System Messages\n",
        "# ----------------------------\n",
        "\n",
        "STARTER_PROMPT = \"\"\"You are an intelligent investment research assistant focused on analyzing a stock.\n",
        "Follow your specific policy steps carefully before handing off or concluding.\n",
        "Work only within your area of expertise and call a function once your task is complete.\n",
        "Here is your policy:\n",
        "\"\"\"\n",
        "\n",
        "# Agent-specific prompts\n",
        "FINANCIALS_POLICY = \"\"\"\n",
        "1. Analyze income statement, balance sheet, and cash flow.\n",
        "2. Extract key metrics: revenue growth, net margin, P/E ratio, debt levels.\n",
        "3. Call analyze_financials function once complete.\n",
        "4. Pass control to Sentiment Agent.\n",
        "\"\"\"\n",
        "\n",
        "SENTIMENT_POLICY = \"\"\"\n",
        "1. Use the assess_market_sentiment function to retrieve recent headlines.\n",
        "2. Review the content and tone of the headlines carefully.\n",
        "3. Based on their tone, classify sentiment as Positive, Neutral, or Negative.\n",
        "4. Explain your reasoning using examples from the headlines.\n",
        "5. Pass control to Valuation Agent.\n",
        "\"\"\"\n",
        "\n",
        "VALUATION_POLICY = \"\"\"\n",
        "1. Use DCF and comparable company analysis.\n",
        "2. Compare current price to fair value estimate.\n",
        "3. Call perform_valuation function.\n",
        "4. Pass control to Risk Agent.\n",
        "\"\"\"\n",
        "\n",
        "RISK_POLICY = \"\"\"\n",
        "1. Identify risk factors: industry trends, competition, volatility.\n",
        "2. Call detect_risks function once done.\n",
        "3. Pass control to Summary Agent.\n",
        "\"\"\"\n",
        "\n",
        "SUMMARY_POLICY = \"\"\"\n",
        "1. Review outputs from all agents.\n",
        "2. Compile insights into a cohesive report.\n",
        "3. Call generate_summary_report function.\n",
        "# 4. Generate a 6-month price chart.\n",
        "# 5. Call the plot_stock_price function.\n",
        "\"\"\"\n",
        "\n",
        "\n",
        "\n"
      ],
      "metadata": {
        "id": "9Bcs47jmpw3A"
      },
      "execution_count": 12,
      "outputs": []
    },
    {
      "cell_type": "markdown",
      "source": [
        "###  Defining Conversable Agents\n",
        "\n",
        "Each agent is created using `ConversableAgent` and given:\n",
        "- A `name`\n",
        "- A `system_message` that acts as its policy (what it's supposed to do)\n",
        "- Access to the shared `llm_config`\n",
        "- A list of functions it can call\n",
        "\n",
        "📋 Here's what each agent does:\n",
        "- **Financials Agent** → Analyzes raw financial metrics\n",
        "- **Sentiment Agent** → Reviews news and interprets tone\n",
        "- **Valuation Agent** → Estimates stock value based on financial ratios\n",
        "- **Risk Agent** → Summarizes major risk factors\n",
        "- **Summary Agent** → Compiles everything into a readable investment memo and displays the final chart\n",
        "\n",
        "This is where you modularize your workflow and assign each task to a specialist LLM agent.\n"
      ],
      "metadata": {
        "id": "NLK1QITgXwZM"
      }
    },
    {
      "cell_type": "code",
      "source": [
        "# ----------------------------\n",
        "# Agent Definitions\n",
        "# ----------------------------\n",
        "\n",
        "financials_agent = ConversableAgent(\n",
        "    name=\"Financials_Agent\",\n",
        "    system_message=STARTER_PROMPT + FINANCIALS_POLICY,\n",
        "    llm_config=llm_config,\n",
        "    functions=[analyze_financials]\n",
        ")\n",
        "\n",
        "sentiment_agent = ConversableAgent(\n",
        "    name=\"Sentiment_Agent\",\n",
        "    system_message=STARTER_PROMPT + SENTIMENT_POLICY,\n",
        "    llm_config=llm_config,\n",
        "    functions=[assess_market_sentiment]\n",
        ")\n",
        "\n",
        "valuation_agent = ConversableAgent(\n",
        "    name=\"Valuation_Agent\",\n",
        "    system_message=STARTER_PROMPT + VALUATION_POLICY,\n",
        "    llm_config=llm_config,\n",
        "    functions=[perform_valuation]\n",
        ")\n",
        "\n",
        "risk_agent = ConversableAgent(\n",
        "    name=\"Risk_Agent\",\n",
        "    system_message=STARTER_PROMPT + RISK_POLICY,\n",
        "    llm_config=llm_config,\n",
        "    functions=[detect_risks]\n",
        ")\n",
        "\n",
        "summary_agent = ConversableAgent(\n",
        "    name=\"Summary_Agent\",\n",
        "    system_message=STARTER_PROMPT + SUMMARY_POLICY,\n",
        "    llm_config=llm_config,\n",
        "    functions=[generate_summary_report, plot_stock_price]\n",
        ")"
      ],
      "metadata": {
        "id": "Xwa0pA1Sp7jj"
      },
      "execution_count": 13,
      "outputs": []
    },
    {
      "cell_type": "markdown",
      "source": [
        "### The Agent Workflow\n",
        "\n",
        "This section sets up the **handoff logic**, determining when each agent should pass control to the next.\n",
        "\n",
        "We use `register_hand_off()` and `OnCondition()` from AG2 to:\n",
        "- Ensure agents complete their task before passing off\n",
        "- Trigger agents based on the task's natural flow (financials → sentiment → valuation → risk → summary → chart)\n",
        "\n",
        "The power of swarms is in this choreography. No need for loops or state machines. The agents pass tasks intelligently.\n"
      ],
      "metadata": {
        "id": "ZWc2VqWoYJrb"
      }
    },
    {
      "cell_type": "code",
      "source": [
        "# ----------------------------\n",
        "# Agent Handoffs\n",
        "# ----------------------------\n",
        "\n",
        "register_hand_off(financials_agent, OnCondition(sentiment_agent, \"To assess market sentiment.\"))\n",
        "register_hand_off(sentiment_agent, OnCondition(valuation_agent, \"To perform valuation.\"))\n",
        "register_hand_off(valuation_agent, OnCondition(risk_agent, \"To identify risks.\"))\n",
        "register_hand_off(risk_agent, OnCondition(summary_agent, \"To compile a summary report and generate visual report.\"))"
      ],
      "metadata": {
        "id": "PSixEXFeqAz-"
      },
      "execution_count": 14,
      "outputs": []
    },
    {
      "cell_type": "markdown",
      "source": [
        "### Initiating the Swarm Chat\n",
        "\n",
        "This is where the magic happens.\n",
        "\n",
        "We:\n",
        "1. Define the **user agent** (you)\n",
        "2. Call `initiate_swarm_chat()` with:\n",
        "   - The **initial agent** (Financials Agent)\n",
        "   - The full list of collaborating agents\n",
        "   - The starting **user prompt**: `\"Please analyze \"ticker\" for me\"`\n"
      ],
      "metadata": {
        "id": "Lf5vkAhwYW41"
      }
    },
    {
      "cell_type": "code",
      "source": [
        "# ----------------------------\n",
        "# Start the swarm with a human input\n",
        "# ----------------------------\n",
        "\n",
        "user = UserProxyAgent(\n",
        "    name=\"User\",\n",
        "    system_message=\"Human investor or analyst\",\n",
        "    code_execution_config=False,\n",
        ")\n",
        "\n",
        "chat_history, context_variables, last_agent = initiate_swarm_chat(\n",
        "    initial_agent=financials_agent,\n",
        "    agents=[\n",
        "        financials_agent,\n",
        "        sentiment_agent,\n",
        "        valuation_agent,\n",
        "        risk_agent,\n",
        "        summary_agent\n",
        "    ],\n",
        "    user_agent=user,\n",
        "    messages=\"Please analyze NVDA for me.\",\n",
        "    after_work=AfterWorkOption.REVERT_TO_USER\n",
        ")"
      ],
      "metadata": {
        "colab": {
          "base_uri": "https://localhost:8080/",
          "height": 1000
        },
        "id": "VuRhaQmnqD4z",
        "outputId": "fe53ba67-3015-4b61-aba8-36784a3e2834"
      },
      "execution_count": 15,
      "outputs": [
        {
          "output_type": "stream",
          "name": "stdout",
          "text": [
            "User (to chat_manager):\n",
            "\n",
            "Please analyze NVDA for me.\n",
            "\n",
            "--------------------------------------------------------------------------------\n",
            "\n",
            "Next speaker: Financials_Agent\n",
            "\n",
            "\n",
            ">>>>>>>> USING AUTO REPLY...\n",
            "Financials_Agent (to chat_manager):\n",
            "\n",
            "***** Suggested tool call (call_ENQaZIop3trOVGFkies5ldR2): analyze_financials *****\n",
            "Arguments: \n",
            "{\"ticker\":\"NVDA\"}\n",
            "***********************************************************************************\n",
            "\n",
            "--------------------------------------------------------------------------------\n",
            "\n",
            "Next speaker: _Swarm_Tool_Executor\n",
            "\n",
            "\n",
            ">>>>>>>> EXECUTING FUNCTION analyze_financials...\n",
            "Call ID: call_ENQaZIop3trOVGFkies5ldR2\n",
            "Input arguments: {'ticker': 'NVDA'}\n",
            "_Swarm_Tool_Executor (to chat_manager):\n",
            "\n",
            "***** Response from calling tool (call_ENQaZIop3trOVGFkies5ldR2) *****\n",
            "Financials for NVDA:\n",
            "• P/E Ratio: 32.078228\n",
            "• Debt/Equity: 12.946\n",
            "• Revenue Growth: 0.779\n",
            "**********************************************************************\n",
            "\n",
            "--------------------------------------------------------------------------------\n",
            "\n",
            "Next speaker: Financials_Agent\n",
            "\n",
            "\n",
            ">>>>>>>> USING AUTO REPLY...\n",
            "Financials_Agent (to chat_manager):\n",
            "\n",
            "***** Suggested tool call (call_YnpoieWQTAAOYgZiDu8Di2BH): transfer_Financials_Agent_to_Sentiment_Agent *****\n",
            "Arguments: \n",
            "{}\n",
            "*************************************************************************************************************\n",
            "\n",
            "--------------------------------------------------------------------------------\n",
            "\n",
            "Next speaker: _Swarm_Tool_Executor\n",
            "\n",
            "\n",
            ">>>>>>>> EXECUTING FUNCTION transfer_Financials_Agent_to_Sentiment_Agent...\n",
            "Call ID: call_YnpoieWQTAAOYgZiDu8Di2BH\n",
            "Input arguments: {}\n",
            "_Swarm_Tool_Executor (to chat_manager):\n",
            "\n",
            "***** Response from calling tool (call_YnpoieWQTAAOYgZiDu8Di2BH) *****\n",
            "Swarm agent --> Sentiment_Agent\n",
            "**********************************************************************\n",
            "\n",
            "--------------------------------------------------------------------------------\n",
            "\n",
            "Next speaker: Sentiment_Agent\n",
            "\n",
            "\n",
            ">>>>>>>> USING AUTO REPLY...\n",
            "Sentiment_Agent (to chat_manager):\n",
            "\n",
            "***** Suggested tool call (call_O6H5i8ULKqN8FlNpsphkldI7): assess_market_sentiment *****\n",
            "Arguments: \n",
            "{\"ticker\":\"NVDA\"}\n",
            "****************************************************************************************\n",
            "\n",
            "--------------------------------------------------------------------------------\n",
            "\n",
            "Next speaker: _Swarm_Tool_Executor\n",
            "\n",
            "\n",
            ">>>>>>>> EXECUTING FUNCTION assess_market_sentiment...\n",
            "Call ID: call_O6H5i8ULKqN8FlNpsphkldI7\n",
            "Input arguments: {'ticker': 'NVDA'}\n",
            "_Swarm_Tool_Executor (to chat_manager):\n",
            "\n",
            "***** Response from calling tool (call_O6H5i8ULKqN8FlNpsphkldI7) *****\n",
            "['[No title available]', '[No title available]', '[No title available]', '[No title available]', '[No title available]']\n",
            "**********************************************************************\n",
            "\n",
            "--------------------------------------------------------------------------------\n",
            "\n",
            "Next speaker: Sentiment_Agent\n",
            "\n",
            "\n",
            ">>>>>>>> USING AUTO REPLY...\n",
            "Sentiment_Agent (to chat_manager):\n",
            "\n",
            "***** Suggested tool call (call_gOiZy0J71fTgouPu6ueUu61K): transfer_Sentiment_Agent_to_Valuation_Agent *****\n",
            "Arguments: \n",
            "{}\n",
            "************************************************************************************************************\n",
            "\n",
            "--------------------------------------------------------------------------------\n",
            "\n",
            "Next speaker: _Swarm_Tool_Executor\n",
            "\n",
            "\n",
            ">>>>>>>> EXECUTING FUNCTION transfer_Sentiment_Agent_to_Valuation_Agent...\n",
            "Call ID: call_gOiZy0J71fTgouPu6ueUu61K\n",
            "Input arguments: {}\n",
            "_Swarm_Tool_Executor (to chat_manager):\n",
            "\n",
            "***** Response from calling tool (call_gOiZy0J71fTgouPu6ueUu61K) *****\n",
            "Swarm agent --> Valuation_Agent\n",
            "**********************************************************************\n",
            "\n",
            "--------------------------------------------------------------------------------\n",
            "\n",
            "Next speaker: Valuation_Agent\n",
            "\n",
            "\n",
            ">>>>>>>> USING AUTO REPLY...\n",
            "Valuation_Agent (to chat_manager):\n",
            "\n",
            "***** Suggested tool call (call_tWLbcRbAzbmBs4pieR5R5Ge1): perform_valuation *****\n",
            "Arguments: \n",
            "{\"ticker\": \"NVDA\"}\n",
            "**********************************************************************************\n",
            "***** Suggested tool call (call_VffBAe5Tu0EdnHUByg1fZIzE): transfer_Valuation_Agent_to_Risk_Agent *****\n",
            "Arguments: \n",
            "{}\n",
            "*******************************************************************************************************\n",
            "\n",
            "--------------------------------------------------------------------------------\n",
            "\n",
            "Next speaker: _Swarm_Tool_Executor\n",
            "\n",
            "\n",
            ">>>>>>>> EXECUTING FUNCTION perform_valuation...\n",
            "Call ID: call_tWLbcRbAzbmBs4pieR5R5Ge1\n",
            "Input arguments: {'ticker': 'NVDA'}\n",
            "\n",
            ">>>>>>>> EXECUTING FUNCTION transfer_Valuation_Agent_to_Risk_Agent...\n",
            "Call ID: call_VffBAe5Tu0EdnHUByg1fZIzE\n",
            "Input arguments: {}\n",
            "_Swarm_Tool_Executor (to chat_manager):\n",
            "\n",
            "***** Response from calling tool (call_tWLbcRbAzbmBs4pieR5R5Ge1) *****\n",
            "Valuation for NVDA:\n",
            "• Current Price: 94.31\n",
            "• Forward P/E: 22.890778\n",
            "• Price-to-Book Ratio: 29.099043\n",
            "• Estimated using DCF and peer comparison (manual inputs may be needed).\n",
            "**********************************************************************\n",
            "\n",
            "--------------------------------------------------------------------------------\n",
            "***** Response from calling tool (call_VffBAe5Tu0EdnHUByg1fZIzE) *****\n",
            "Swarm agent --> Risk_Agent\n",
            "**********************************************************************\n",
            "\n",
            "--------------------------------------------------------------------------------\n",
            "\n",
            "Next speaker: Risk_Agent\n",
            "\n",
            "\n",
            ">>>>>>>> USING AUTO REPLY...\n",
            "Risk_Agent (to chat_manager):\n",
            "\n",
            "***** Suggested tool call (call_EoVNwRF2pjiy4lnjdxnfJo9Q): detect_risks *****\n",
            "Arguments: \n",
            "{\"ticker\": \"NVDA\"}\n",
            "*****************************************************************************\n",
            "***** Suggested tool call (call_4TodRUZ3NElGNTZs9ow0rU5Z): transfer_Risk_Agent_to_Summary_Agent *****\n",
            "Arguments: \n",
            "{}\n",
            "*****************************************************************************************************\n",
            "\n",
            "--------------------------------------------------------------------------------\n",
            "\n",
            "Next speaker: _Swarm_Tool_Executor\n",
            "\n",
            "\n",
            ">>>>>>>> EXECUTING FUNCTION detect_risks...\n",
            "Call ID: call_EoVNwRF2pjiy4lnjdxnfJo9Q\n",
            "Input arguments: {'ticker': 'NVDA'}\n",
            "\n",
            ">>>>>>>> EXECUTING FUNCTION transfer_Risk_Agent_to_Summary_Agent...\n",
            "Call ID: call_4TodRUZ3NElGNTZs9ow0rU5Z\n",
            "Input arguments: {}\n",
            "_Swarm_Tool_Executor (to chat_manager):\n",
            "\n",
            "***** Response from calling tool (call_EoVNwRF2pjiy4lnjdxnfJo9Q) *****\n",
            "Risk assessment for NVDA:\n",
            "• Sector: Technology\n",
            "• Country: United States\n",
            "• Beta (Volatility): 1.958\n",
            "• Upcoming Earnings Date: N/A\n",
            "• Potential Risks: Market fluctuations, competition, geopolitical factors, and upcoming earnings volatility.\n",
            "**********************************************************************\n",
            "\n",
            "--------------------------------------------------------------------------------\n",
            "***** Response from calling tool (call_4TodRUZ3NElGNTZs9ow0rU5Z) *****\n",
            "Swarm agent --> Summary_Agent\n",
            "**********************************************************************\n",
            "\n",
            "--------------------------------------------------------------------------------\n",
            "\n",
            "Next speaker: Summary_Agent\n",
            "\n",
            "\n",
            ">>>>>>>> USING AUTO REPLY...\n",
            "Summary_Agent (to chat_manager):\n",
            "\n",
            "***** Suggested tool call (call_g5LUkNJdL37KJeNHL2jxC3LD): generate_summary_report *****\n",
            "Arguments: \n",
            "{\"ticker\": \"NVDA\"}\n",
            "****************************************************************************************\n",
            "***** Suggested tool call (call_jUl4G4dCiFmU3a3x0rTWbA8h): plot_stock_price *****\n",
            "Arguments: \n",
            "{\"ticker\": \"NVDA\"}\n",
            "*********************************************************************************\n",
            "\n",
            "--------------------------------------------------------------------------------\n",
            "\n",
            "Next speaker: _Swarm_Tool_Executor\n",
            "\n",
            "\n",
            ">>>>>>>> EXECUTING FUNCTION generate_summary_report...\n",
            "Call ID: call_g5LUkNJdL37KJeNHL2jxC3LD\n",
            "Input arguments: {'ticker': 'NVDA'}\n",
            "\n",
            ">>>>>>>> EXECUTING FUNCTION plot_stock_price...\n",
            "Call ID: call_jUl4G4dCiFmU3a3x0rTWbA8h\n",
            "Input arguments: {'ticker': 'NVDA'}\n",
            "YF.download() has changed argument auto_adjust default to True\n"
          ]
        },
        {
          "output_type": "stream",
          "name": "stderr",
          "text": [
            "\r[*********************100%***********************]  1 of 1 completed\n"
          ]
        },
        {
          "output_type": "display_data",
          "data": {
            "image/png": "[encoded data removed]",
            "text/plain": [
              "<IPython.core.display.Image object>"
            ]
          },
          "metadata": {}
        },
        {
          "output_type": "stream",
          "name": "stdout",
          "text": [
            "_Swarm_Tool_Executor (to chat_manager):\n",
            "\n",
            "***** Response from calling tool (call_g5LUkNJdL37KJeNHL2jxC3LD) *****\n",
            "===== INVESTMENT SUMMARY: NVDA =====\n",
            "\n",
            "[1] Financial Overview:\n",
            "{financials_summary}\n",
            "\n",
            "[2] Market Sentiment:\n",
            "{sentiment_summary}\n",
            "\n",
            "[3] Valuation Insights:\n",
            "{valuation_summary}\n",
            "\n",
            "[4] Risk Factors:\n",
            "{risk_summary}\n",
            "\n",
            "[5] Final Analyst Summary:\n",
            "This stock shows {insert_LLManalysis} based on current data.\n",
            "=============================================\n",
            "**********************************************************************\n",
            "\n",
            "--------------------------------------------------------------------------------\n",
            "***** Response from calling tool (call_jUl4G4dCiFmU3a3x0rTWbA8h) *****\n",
            "Displayed stock price chart for NVDA.Saved stock price chart for NVDA as NVDA_price.png\n",
            "**********************************************************************\n",
            "\n",
            "--------------------------------------------------------------------------------\n",
            "\n",
            "Next speaker: Summary_Agent\n",
            "\n",
            "\n",
            ">>>>>>>> USING AUTO REPLY...\n",
            "Summary_Agent (to chat_manager):\n",
            "\n",
            "### NVDA Investment Analysis Report\n",
            "\n",
            "#### 1. Financial Overview:\n",
            "- **P/E Ratio:** 32.08\n",
            "- **Debt/Equity Ratio:** 12.95\n",
            "- **Revenue Growth:** 77.9%\n",
            "\n",
            "#### 2. Market Sentiment:\n",
            "- Current market sentiment has not provided specific insights; however, it is important to consider general market dynamics whenever looking into NVDA's market position.\n",
            "\n",
            "#### 3. Valuation Insights:\n",
            "- **Current Price:** $94.31\n",
            "- **Forward P/E:** 22.89\n",
            "- **Price-to-Book Ratio:** 29.10\n",
            "- Valuation estimated using DCF and peer comparison may require manual inputs for detailed accuracy.\n",
            "\n",
            "#### 4. Risk Factors:\n",
            "- **Sector:** Technology\n",
            "- **Country:** United States\n",
            "- **Beta (Volatility):** 1.96\n",
            "- **Potential Risks:** Market fluctuations, competition, geopolitical factors, and volatility around upcoming earnings.\n",
            "\n",
            "#### 5. Final Analyst Summary:\n",
            "- This stock shows promising growth potential but may experience volatility due to the high beta and sector risks.\n",
            "\n",
            "### Stock Price Chart\n",
            "![NVDA Price Chart](NVDA_price.png)\n",
            "\n",
            "The above analysis provides a comprehensive view of NVIDIA Corporation (NVDA), including financial metrics, valuation insights, and an overview of potential risks.\n",
            "\n",
            "--------------------------------------------------------------------------------\n",
            "\n",
            "Next speaker: User\n",
            "\n",
            "Replying as User. Provide feedback to chat_manager. Press enter to skip and use auto-reply, or type 'exit' to end the conversation: exit\n",
            "\n",
            ">>>>>>>> TERMINATING RUN (b403b185-7160-44a6-9df6-3cad8f8bcbfe): User requested to end the conversation\n",
            "\n",
            ">>>>>>>> TERMINATING RUN (0ee5c16e-0325-4819-8314-c33e2073d28d): No reply generated\n"
          ]
        }
      ]
    }
  ]
}